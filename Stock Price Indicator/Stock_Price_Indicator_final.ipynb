{
  "nbformat": 4,
  "nbformat_minor": 0,
  "metadata": {
    "colab": {
      "name": "Stock Price Indicator final.ipynb",
      "provenance": [],
      "authorship_tag": "ABX9TyM6Qy3usML9MWflkWLRbdyO",
      "include_colab_link": true
    },
    "kernelspec": {
      "name": "python3",
      "display_name": "Python 3"
    }
  },
  "cells": [
    {
      "cell_type": "markdown",
      "metadata": {
        "id": "view-in-github",
        "colab_type": "text"
      },
      "source": [
        "<a href=\"https://colab.research.google.com/github/saurabhsingh1411/10_simple_project_data_science/blob/main/Stock%20Price%20Indicator/Stock_Price_Indicator_final.ipynb\" target=\"_parent\"><img src=\"https://colab.research.google.com/assets/colab-badge.svg\" alt=\"Open In Colab\"/></a>"
      ]
    },
    {
      "cell_type": "code",
      "metadata": {
        "id": "TgLQLDp7W-EA"
      },
      "source": [
        "import pandas as pd\r\n",
        "import numpy as np\r\n",
        "import matplotlib.pyplot as plt\r\n",
        "\r\n"
      ],
      "execution_count": 1,
      "outputs": []
    },
    {
      "cell_type": "code",
      "metadata": {
        "colab": {
          "base_uri": "https://localhost:8080/",
          "height": 204
        },
        "id": "9r-1Cqj2aXZM",
        "outputId": "d082bc68-3dd4-4412-cd6b-743edfcf5e72"
      },
      "source": [
        "stock=pd.read_csv('TCS.csv')\r\n",
        "stock.head()"
      ],
      "execution_count": 2,
      "outputs": [
        {
          "output_type": "execute_result",
          "data": {
            "text/html": [
              "<div>\n",
              "<style scoped>\n",
              "    .dataframe tbody tr th:only-of-type {\n",
              "        vertical-align: middle;\n",
              "    }\n",
              "\n",
              "    .dataframe tbody tr th {\n",
              "        vertical-align: top;\n",
              "    }\n",
              "\n",
              "    .dataframe thead th {\n",
              "        text-align: right;\n",
              "    }\n",
              "</style>\n",
              "<table border=\"1\" class=\"dataframe\">\n",
              "  <thead>\n",
              "    <tr style=\"text-align: right;\">\n",
              "      <th></th>\n",
              "      <th>Date</th>\n",
              "      <th>Open</th>\n",
              "      <th>High</th>\n",
              "      <th>Low</th>\n",
              "      <th>Last</th>\n",
              "      <th>Close</th>\n",
              "      <th>Total Trade Quantity</th>\n",
              "      <th>Turnover (Lacs)</th>\n",
              "    </tr>\n",
              "  </thead>\n",
              "  <tbody>\n",
              "    <tr>\n",
              "      <th>0</th>\n",
              "      <td>2018-12-03</td>\n",
              "      <td>1984.00</td>\n",
              "      <td>1990.0</td>\n",
              "      <td>1968.3</td>\n",
              "      <td>1984.00</td>\n",
              "      <td>1982.40</td>\n",
              "      <td>1610576.0</td>\n",
              "      <td>31868.00</td>\n",
              "    </tr>\n",
              "    <tr>\n",
              "      <th>1</th>\n",
              "      <td>2018-12-04</td>\n",
              "      <td>1983.00</td>\n",
              "      <td>2019.4</td>\n",
              "      <td>1971.0</td>\n",
              "      <td>2009.85</td>\n",
              "      <td>2010.85</td>\n",
              "      <td>3270615.0</td>\n",
              "      <td>65568.23</td>\n",
              "    </tr>\n",
              "    <tr>\n",
              "      <th>2</th>\n",
              "      <td>2018-12-05</td>\n",
              "      <td>2006.00</td>\n",
              "      <td>2018.0</td>\n",
              "      <td>1985.0</td>\n",
              "      <td>2003.90</td>\n",
              "      <td>2006.75</td>\n",
              "      <td>2501539.0</td>\n",
              "      <td>50131.23</td>\n",
              "    </tr>\n",
              "    <tr>\n",
              "      <th>3</th>\n",
              "      <td>2018-12-06</td>\n",
              "      <td>1998.00</td>\n",
              "      <td>2017.0</td>\n",
              "      <td>1979.6</td>\n",
              "      <td>1990.00</td>\n",
              "      <td>1992.70</td>\n",
              "      <td>2321216.0</td>\n",
              "      <td>46373.71</td>\n",
              "    </tr>\n",
              "    <tr>\n",
              "      <th>4</th>\n",
              "      <td>2018-12-07</td>\n",
              "      <td>1985.05</td>\n",
              "      <td>2003.9</td>\n",
              "      <td>1973.0</td>\n",
              "      <td>1999.85</td>\n",
              "      <td>1995.20</td>\n",
              "      <td>1680420.0</td>\n",
              "      <td>33463.26</td>\n",
              "    </tr>\n",
              "  </tbody>\n",
              "</table>\n",
              "</div>"
            ],
            "text/plain": [
              "         Date     Open    High  ...    Close  Total Trade Quantity  Turnover (Lacs)\n",
              "0  2018-12-03  1984.00  1990.0  ...  1982.40             1610576.0         31868.00\n",
              "1  2018-12-04  1983.00  2019.4  ...  2010.85             3270615.0         65568.23\n",
              "2  2018-12-05  2006.00  2018.0  ...  2006.75             2501539.0         50131.23\n",
              "3  2018-12-06  1998.00  2017.0  ...  1992.70             2321216.0         46373.71\n",
              "4  2018-12-07  1985.05  2003.9  ...  1995.20             1680420.0         33463.26\n",
              "\n",
              "[5 rows x 8 columns]"
            ]
          },
          "metadata": {
            "tags": []
          },
          "execution_count": 2
        }
      ]
    },
    {
      "cell_type": "code",
      "metadata": {
        "colab": {
          "base_uri": "https://localhost:8080/",
          "height": 266
        },
        "id": "bjhX4iAKeO1W",
        "outputId": "2eb6420a-fee8-4bb2-8345-10547790a1d5"
      },
      "source": [
        "corr=stock.corr()\r\n",
        "corr"
      ],
      "execution_count": 7,
      "outputs": [
        {
          "output_type": "execute_result",
          "data": {
            "text/html": [
              "<div>\n",
              "<style scoped>\n",
              "    .dataframe tbody tr th:only-of-type {\n",
              "        vertical-align: middle;\n",
              "    }\n",
              "\n",
              "    .dataframe tbody tr th {\n",
              "        vertical-align: top;\n",
              "    }\n",
              "\n",
              "    .dataframe thead th {\n",
              "        text-align: right;\n",
              "    }\n",
              "</style>\n",
              "<table border=\"1\" class=\"dataframe\">\n",
              "  <thead>\n",
              "    <tr style=\"text-align: right;\">\n",
              "      <th></th>\n",
              "      <th>Open</th>\n",
              "      <th>High</th>\n",
              "      <th>Low</th>\n",
              "      <th>Last</th>\n",
              "      <th>Close</th>\n",
              "      <th>Total Trade Quantity</th>\n",
              "      <th>Turnover (Lacs)</th>\n",
              "    </tr>\n",
              "  </thead>\n",
              "  <tbody>\n",
              "    <tr>\n",
              "      <th>Open</th>\n",
              "      <td>1.000000</td>\n",
              "      <td>0.937777</td>\n",
              "      <td>0.925625</td>\n",
              "      <td>0.889651</td>\n",
              "      <td>0.886413</td>\n",
              "      <td>-0.145327</td>\n",
              "      <td>-0.091618</td>\n",
              "    </tr>\n",
              "    <tr>\n",
              "      <th>High</th>\n",
              "      <td>0.937777</td>\n",
              "      <td>1.000000</td>\n",
              "      <td>0.935803</td>\n",
              "      <td>0.946352</td>\n",
              "      <td>0.956137</td>\n",
              "      <td>-0.064046</td>\n",
              "      <td>-0.005265</td>\n",
              "    </tr>\n",
              "    <tr>\n",
              "      <th>Low</th>\n",
              "      <td>0.925625</td>\n",
              "      <td>0.935803</td>\n",
              "      <td>1.000000</td>\n",
              "      <td>0.964793</td>\n",
              "      <td>0.968353</td>\n",
              "      <td>-0.353678</td>\n",
              "      <td>-0.297565</td>\n",
              "    </tr>\n",
              "    <tr>\n",
              "      <th>Last</th>\n",
              "      <td>0.889651</td>\n",
              "      <td>0.946352</td>\n",
              "      <td>0.964793</td>\n",
              "      <td>1.000000</td>\n",
              "      <td>0.995482</td>\n",
              "      <td>-0.220357</td>\n",
              "      <td>-0.162985</td>\n",
              "    </tr>\n",
              "    <tr>\n",
              "      <th>Close</th>\n",
              "      <td>0.886413</td>\n",
              "      <td>0.956137</td>\n",
              "      <td>0.968353</td>\n",
              "      <td>0.995482</td>\n",
              "      <td>1.000000</td>\n",
              "      <td>-0.223675</td>\n",
              "      <td>-0.165647</td>\n",
              "    </tr>\n",
              "    <tr>\n",
              "      <th>Total Trade Quantity</th>\n",
              "      <td>-0.145327</td>\n",
              "      <td>-0.064046</td>\n",
              "      <td>-0.353678</td>\n",
              "      <td>-0.220357</td>\n",
              "      <td>-0.223675</td>\n",
              "      <td>1.000000</td>\n",
              "      <td>0.998061</td>\n",
              "    </tr>\n",
              "    <tr>\n",
              "      <th>Turnover (Lacs)</th>\n",
              "      <td>-0.091618</td>\n",
              "      <td>-0.005265</td>\n",
              "      <td>-0.297565</td>\n",
              "      <td>-0.162985</td>\n",
              "      <td>-0.165647</td>\n",
              "      <td>0.998061</td>\n",
              "      <td>1.000000</td>\n",
              "    </tr>\n",
              "  </tbody>\n",
              "</table>\n",
              "</div>"
            ],
            "text/plain": [
              "                          Open      High  ...  Total Trade Quantity  Turnover (Lacs)\n",
              "Open                  1.000000  0.937777  ...             -0.145327        -0.091618\n",
              "High                  0.937777  1.000000  ...             -0.064046        -0.005265\n",
              "Low                   0.925625  0.935803  ...             -0.353678        -0.297565\n",
              "Last                  0.889651  0.946352  ...             -0.220357        -0.162985\n",
              "Close                 0.886413  0.956137  ...             -0.223675        -0.165647\n",
              "Total Trade Quantity -0.145327 -0.064046  ...              1.000000         0.998061\n",
              "Turnover (Lacs)      -0.091618 -0.005265  ...              0.998061         1.000000\n",
              "\n",
              "[7 rows x 7 columns]"
            ]
          },
          "metadata": {
            "tags": []
          },
          "execution_count": 7
        }
      ]
    },
    {
      "cell_type": "code",
      "metadata": {
        "colab": {
          "base_uri": "https://localhost:8080/",
          "height": 376
        },
        "id": "plkVEGweeSZB",
        "outputId": "db3aa48b-f541-4980-a921-e2654c8265da"
      },
      "source": [
        "import seaborn as sns\r\n",
        "sns.heatmap(corr,annot=True)"
      ],
      "execution_count": 9,
      "outputs": [
        {
          "output_type": "execute_result",
          "data": {
            "text/plain": [
              "<matplotlib.axes._subplots.AxesSubplot at 0x7ff9a18c5278>"
            ]
          },
          "metadata": {
            "tags": []
          },
          "execution_count": 9
        },
        {
          "output_type": "display_data",
          "data": {
            "image/png": "[encoded data removed]",
            "text/plain": [
              "<Figure size 432x288 with 2 Axes>"
            ]
          },
          "metadata": {
            "tags": [],
            "needs_background": "light"
          }
        }
      ]
    },
    {
      "cell_type": "code",
      "metadata": {
        "colab": {
          "base_uri": "https://localhost:8080/"
        },
        "id": "2FtGAisyaXbz",
        "outputId": "e7860716-2508-4d36-ea64-55afbe1103ee"
      },
      "source": [
        "stock.isnull().sum()"
      ],
      "execution_count": 10,
      "outputs": [
        {
          "output_type": "execute_result",
          "data": {
            "text/plain": [
              "Date                    0\n",
              "Open                    0\n",
              "High                    0\n",
              "Low                     0\n",
              "Last                    0\n",
              "Close                   0\n",
              "Total Trade Quantity    0\n",
              "Turnover (Lacs)         0\n",
              "dtype: int64"
            ]
          },
          "metadata": {
            "tags": []
          },
          "execution_count": 10
        }
      ]
    },
    {
      "cell_type": "code",
      "metadata": {
        "id": "FYyRy_KUaXei"
      },
      "source": [
        "features=['High','Low','Last','Close','Total Trade Quantity','Turnover (Lacs)']\r\n",
        "X=stock[features]\r\n",
        "y=stock['Open']"
      ],
      "execution_count": 13,
      "outputs": []
    },
    {
      "cell_type": "code",
      "metadata": {
        "colab": {
          "base_uri": "https://localhost:8080/"
        },
        "id": "6xRkqvCgaXjD",
        "outputId": "a95e15ce-a45b-4adb-d49c-999b0fcc1bc3"
      },
      "source": [
        "print(X.head(3))\r\n",
        "print(y.head(3))"
      ],
      "execution_count": 14,
      "outputs": [
        {
          "output_type": "stream",
          "text": [
            "     High     Low     Last    Close  Total Trade Quantity  Turnover (Lacs)\n",
            "0  1990.0  1968.3  1984.00  1982.40             1610576.0         31868.00\n",
            "1  2019.4  1971.0  2009.85  2010.85             3270615.0         65568.23\n",
            "2  2018.0  1985.0  2003.90  2006.75             2501539.0         50131.23\n",
            "0    1984.0\n",
            "1    1983.0\n",
            "2    2006.0\n",
            "Name: Open, dtype: float64\n"
          ],
          "name": "stdout"
        }
      ]
    },
    {
      "cell_type": "code",
      "metadata": {
        "colab": {
          "base_uri": "https://localhost:8080/"
        },
        "id": "P9c9XE-fiQc-",
        "outputId": "e067ed94-24c4-40ba-a6ef-e759ae80d948"
      },
      "source": [
        "X.shape"
      ],
      "execution_count": 27,
      "outputs": [
        {
          "output_type": "execute_result",
          "data": {
            "text/plain": [
              "(20, 6)"
            ]
          },
          "metadata": {
            "tags": []
          },
          "execution_count": 27
        }
      ]
    },
    {
      "cell_type": "code",
      "metadata": {
        "id": "1OME9sy2ewJ6"
      },
      "source": [
        "from sklearn.model_selection import train_test_split\r\n",
        "X_train,X_test,y_train,y_test=train_test_split(X,y,test_size=0.2,random_state=0)"
      ],
      "execution_count": 15,
      "outputs": []
    },
    {
      "cell_type": "code",
      "metadata": {
        "colab": {
          "base_uri": "https://localhost:8080/"
        },
        "id": "kTCStJDmfao1",
        "outputId": "7db25668-2ad4-4546-e31b-0b93b516ec7d"
      },
      "source": [
        "from sklearn.linear_model import LinearRegression\r\n",
        "lr=LinearRegression()\r\n",
        "\r\n",
        "lr.fit(X_train,y_train)"
      ],
      "execution_count": 16,
      "outputs": [
        {
          "output_type": "execute_result",
          "data": {
            "text/plain": [
              "LinearRegression(copy_X=True, fit_intercept=True, n_jobs=None, normalize=False)"
            ]
          },
          "metadata": {
            "tags": []
          },
          "execution_count": 16
        }
      ]
    },
    {
      "cell_type": "code",
      "metadata": {
        "id": "-NeDrAp3fptP"
      },
      "source": [
        "y_pred=lr.predict(X_test)"
      ],
      "execution_count": 17,
      "outputs": []
    },
    {
      "cell_type": "code",
      "metadata": {
        "colab": {
          "base_uri": "https://localhost:8080/"
        },
        "id": "ACIEQXMTfqQn",
        "outputId": "d3402bb1-4102-47b2-d954-1c701cc99f30"
      },
      "source": [
        "lr.score(X_test,y_pred)"
      ],
      "execution_count": 19,
      "outputs": [
        {
          "output_type": "execute_result",
          "data": {
            "text/plain": [
              "1.0"
            ]
          },
          "metadata": {
            "tags": []
          },
          "execution_count": 19
        }
      ]
    },
    {
      "cell_type": "code",
      "metadata": {
        "colab": {
          "base_uri": "https://localhost:8080/"
        },
        "id": "SruD30C6fqTs",
        "outputId": "2aa23759-63b9-4b37-9710-86d156fcc2af"
      },
      "source": [
        "from sklearn.metrics import mean_squared_error\r\n",
        "\r\n",
        "rms = mean_squared_error(y_test, y_pred, squared=False)\r\n",
        "rms"
      ],
      "execution_count": 21,
      "outputs": [
        {
          "output_type": "execute_result",
          "data": {
            "text/plain": [
              "15.090740734041804"
            ]
          },
          "metadata": {
            "tags": []
          },
          "execution_count": 21
        }
      ]
    },
    {
      "cell_type": "code",
      "metadata": {
        "colab": {
          "base_uri": "https://localhost:8080/"
        },
        "id": "EzZEs_WHfqZS",
        "outputId": "b6e68d9e-a2d7-4051-ad39-22e6271a11fe"
      },
      "source": [
        "print(y_test[0:5])"
      ],
      "execution_count": 22,
      "outputs": [
        {
          "output_type": "stream",
          "text": [
            "18    1915.0\n",
            "1     1983.0\n",
            "19    1908.0\n",
            "8     2024.0\n",
            "Name: Open, dtype: float64\n"
          ],
          "name": "stdout"
        }
      ]
    },
    {
      "cell_type": "code",
      "metadata": {
        "colab": {
          "base_uri": "https://localhost:8080/"
        },
        "id": "d4Bali0-gUiX",
        "outputId": "62be1c61-e5af-45c5-a5e8-ad8f261e21e0"
      },
      "source": [
        "print(y_pred[0:5])"
      ],
      "execution_count": 24,
      "outputs": [
        {
          "output_type": "stream",
          "text": [
            "[1903.67209051 1977.51631965 1888.7364764  2004.46935233]\n"
          ],
          "name": "stdout"
        }
      ]
    },
    {
      "cell_type": "code",
      "metadata": {
        "colab": {
          "base_uri": "https://localhost:8080/"
        },
        "id": "3Ca2gz8ZgZ3d",
        "outputId": "6ce537d4-a85d-4261-a989-532afa8791a8"
      },
      "source": [
        "y_test"
      ],
      "execution_count": 26,
      "outputs": [
        {
          "output_type": "execute_result",
          "data": {
            "text/plain": [
              "18    1915.0\n",
              "1     1983.0\n",
              "19    1908.0\n",
              "8     2024.0\n",
              "Name: Open, dtype: float64"
            ]
          },
          "metadata": {
            "tags": []
          },
          "execution_count": 26
        }
      ]
    },
    {
      "cell_type": "code",
      "metadata": {
        "id": "zUpUQSlvgi7V"
      },
      "source": [
        ""
      ],
      "execution_count": null,
      "outputs": []
    }
  ]
}