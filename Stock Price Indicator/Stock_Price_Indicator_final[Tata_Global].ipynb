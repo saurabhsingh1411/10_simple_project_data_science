{
  "nbformat": 4,
  "nbformat_minor": 0,
  "metadata": {
    "colab": {
      "name": "Stock Price Indicator final[Tata Global].ipynb",
      "provenance": [],
      "authorship_tag": "ABX9TyNr89GLkht9hxkA/xpqKGoI",
      "include_colab_link": true
    },
    "kernelspec": {
      "name": "python3",
      "display_name": "Python 3"
    }
  },
  "cells": [
    {
      "cell_type": "markdown",
      "metadata": {
        "id": "view-in-github",
        "colab_type": "text"
      },
      "source": [
        "<a href=\"https://colab.research.google.com/github/saurabhsingh1411/10_simple_project_data_science/blob/main/Stock%20Price%20Indicator/Stock_Price_Indicator_final%5BTata_Global%5D.ipynb\" target=\"_parent\"><img src=\"https://colab.research.google.com/assets/colab-badge.svg\" alt=\"Open In Colab\"/></a>"
      ]
    },
    {
      "cell_type": "code",
      "metadata": {
        "id": "TgLQLDp7W-EA"
      },
      "source": [
        "import pandas as pd\r\n",
        "import numpy as np\r\n",
        "import matplotlib.pyplot as plt\r\n",
        "\r\n"
      ],
      "execution_count": 1,
      "outputs": []
    },
    {
      "cell_type": "code",
      "metadata": {
        "colab": {
          "base_uri": "https://localhost:8080/",
          "height": 204
        },
        "id": "9r-1Cqj2aXZM",
        "outputId": "75cad8dd-7bd5-455c-dbc5-4bcd11c46564"
      },
      "source": [
        "stock=pd.read_csv('NSE-TATAGLOBAL11.csv')\r\n",
        "stock.head()"
      ],
      "execution_count": 28,
      "outputs": [
        {
          "output_type": "execute_result",
          "data": {
            "text/html": [
              "<div>\n",
              "<style scoped>\n",
              "    .dataframe tbody tr th:only-of-type {\n",
              "        vertical-align: middle;\n",
              "    }\n",
              "\n",
              "    .dataframe tbody tr th {\n",
              "        vertical-align: top;\n",
              "    }\n",
              "\n",
              "    .dataframe thead th {\n",
              "        text-align: right;\n",
              "    }\n",
              "</style>\n",
              "<table border=\"1\" class=\"dataframe\">\n",
              "  <thead>\n",
              "    <tr style=\"text-align: right;\">\n",
              "      <th></th>\n",
              "      <th>Date</th>\n",
              "      <th>Open</th>\n",
              "      <th>High</th>\n",
              "      <th>Low</th>\n",
              "      <th>Last</th>\n",
              "      <th>Close</th>\n",
              "      <th>Total Trade Quantity</th>\n",
              "      <th>Turnover (Lacs)</th>\n",
              "    </tr>\n",
              "  </thead>\n",
              "  <tbody>\n",
              "    <tr>\n",
              "      <th>0</th>\n",
              "      <td>2018-10-08</td>\n",
              "      <td>208.00</td>\n",
              "      <td>222.25</td>\n",
              "      <td>206.85</td>\n",
              "      <td>216.00</td>\n",
              "      <td>215.15</td>\n",
              "      <td>4642146.0</td>\n",
              "      <td>10062.83</td>\n",
              "    </tr>\n",
              "    <tr>\n",
              "      <th>1</th>\n",
              "      <td>2018-10-05</td>\n",
              "      <td>217.00</td>\n",
              "      <td>218.60</td>\n",
              "      <td>205.90</td>\n",
              "      <td>210.25</td>\n",
              "      <td>209.20</td>\n",
              "      <td>3519515.0</td>\n",
              "      <td>7407.06</td>\n",
              "    </tr>\n",
              "    <tr>\n",
              "      <th>2</th>\n",
              "      <td>2018-10-04</td>\n",
              "      <td>223.50</td>\n",
              "      <td>227.80</td>\n",
              "      <td>216.15</td>\n",
              "      <td>217.25</td>\n",
              "      <td>218.20</td>\n",
              "      <td>1728786.0</td>\n",
              "      <td>3815.79</td>\n",
              "    </tr>\n",
              "    <tr>\n",
              "      <th>3</th>\n",
              "      <td>2018-10-03</td>\n",
              "      <td>230.00</td>\n",
              "      <td>237.50</td>\n",
              "      <td>225.75</td>\n",
              "      <td>226.45</td>\n",
              "      <td>227.60</td>\n",
              "      <td>1708590.0</td>\n",
              "      <td>3960.27</td>\n",
              "    </tr>\n",
              "    <tr>\n",
              "      <th>4</th>\n",
              "      <td>2018-10-01</td>\n",
              "      <td>234.55</td>\n",
              "      <td>234.60</td>\n",
              "      <td>221.05</td>\n",
              "      <td>230.30</td>\n",
              "      <td>230.90</td>\n",
              "      <td>1534749.0</td>\n",
              "      <td>3486.05</td>\n",
              "    </tr>\n",
              "  </tbody>\n",
              "</table>\n",
              "</div>"
            ],
            "text/plain": [
              "         Date    Open    High  ...   Close  Total Trade Quantity  Turnover (Lacs)\n",
              "0  2018-10-08  208.00  222.25  ...  215.15             4642146.0         10062.83\n",
              "1  2018-10-05  217.00  218.60  ...  209.20             3519515.0          7407.06\n",
              "2  2018-10-04  223.50  227.80  ...  218.20             1728786.0          3815.79\n",
              "3  2018-10-03  230.00  237.50  ...  227.60             1708590.0          3960.27\n",
              "4  2018-10-01  234.55  234.60  ...  230.90             1534749.0          3486.05\n",
              "\n",
              "[5 rows x 8 columns]"
            ]
          },
          "metadata": {
            "tags": []
          },
          "execution_count": 28
        }
      ]
    },
    {
      "cell_type": "code",
      "metadata": {
        "colab": {
          "base_uri": "https://localhost:8080/",
          "height": 266
        },
        "id": "bjhX4iAKeO1W",
        "outputId": "27edf5ea-c451-463d-8dd8-a646d76fda54"
      },
      "source": [
        "corr=stock.corr()\r\n",
        "corr"
      ],
      "execution_count": 29,
      "outputs": [
        {
          "output_type": "execute_result",
          "data": {
            "text/html": [
              "<div>\n",
              "<style scoped>\n",
              "    .dataframe tbody tr th:only-of-type {\n",
              "        vertical-align: middle;\n",
              "    }\n",
              "\n",
              "    .dataframe tbody tr th {\n",
              "        vertical-align: top;\n",
              "    }\n",
              "\n",
              "    .dataframe thead th {\n",
              "        text-align: right;\n",
              "    }\n",
              "</style>\n",
              "<table border=\"1\" class=\"dataframe\">\n",
              "  <thead>\n",
              "    <tr style=\"text-align: right;\">\n",
              "      <th></th>\n",
              "      <th>Open</th>\n",
              "      <th>High</th>\n",
              "      <th>Low</th>\n",
              "      <th>Last</th>\n",
              "      <th>Close</th>\n",
              "      <th>Total Trade Quantity</th>\n",
              "      <th>Turnover (Lacs)</th>\n",
              "    </tr>\n",
              "  </thead>\n",
              "  <tbody>\n",
              "    <tr>\n",
              "      <th>Open</th>\n",
              "      <td>1.000000</td>\n",
              "      <td>0.998956</td>\n",
              "      <td>0.998776</td>\n",
              "      <td>0.997662</td>\n",
              "      <td>0.997704</td>\n",
              "      <td>0.367503</td>\n",
              "      <td>0.587026</td>\n",
              "    </tr>\n",
              "    <tr>\n",
              "      <th>High</th>\n",
              "      <td>0.998956</td>\n",
              "      <td>1.000000</td>\n",
              "      <td>0.998728</td>\n",
              "      <td>0.999130</td>\n",
              "      <td>0.999159</td>\n",
              "      <td>0.388798</td>\n",
              "      <td>0.605907</td>\n",
              "    </tr>\n",
              "    <tr>\n",
              "      <th>Low</th>\n",
              "      <td>0.998776</td>\n",
              "      <td>0.998728</td>\n",
              "      <td>1.000000</td>\n",
              "      <td>0.999008</td>\n",
              "      <td>0.999065</td>\n",
              "      <td>0.361695</td>\n",
              "      <td>0.582446</td>\n",
              "    </tr>\n",
              "    <tr>\n",
              "      <th>Last</th>\n",
              "      <td>0.997662</td>\n",
              "      <td>0.999130</td>\n",
              "      <td>0.999008</td>\n",
              "      <td>1.000000</td>\n",
              "      <td>0.999963</td>\n",
              "      <td>0.381269</td>\n",
              "      <td>0.599575</td>\n",
              "    </tr>\n",
              "    <tr>\n",
              "      <th>Close</th>\n",
              "      <td>0.997704</td>\n",
              "      <td>0.999159</td>\n",
              "      <td>0.999065</td>\n",
              "      <td>0.999963</td>\n",
              "      <td>1.000000</td>\n",
              "      <td>0.380801</td>\n",
              "      <td>0.599155</td>\n",
              "    </tr>\n",
              "    <tr>\n",
              "      <th>Total Trade Quantity</th>\n",
              "      <td>0.367503</td>\n",
              "      <td>0.388798</td>\n",
              "      <td>0.361695</td>\n",
              "      <td>0.381269</td>\n",
              "      <td>0.380801</td>\n",
              "      <td>1.000000</td>\n",
              "      <td>0.941976</td>\n",
              "    </tr>\n",
              "    <tr>\n",
              "      <th>Turnover (Lacs)</th>\n",
              "      <td>0.587026</td>\n",
              "      <td>0.605907</td>\n",
              "      <td>0.582446</td>\n",
              "      <td>0.599575</td>\n",
              "      <td>0.599155</td>\n",
              "      <td>0.941976</td>\n",
              "      <td>1.000000</td>\n",
              "    </tr>\n",
              "  </tbody>\n",
              "</table>\n",
              "</div>"
            ],
            "text/plain": [
              "                          Open      High  ...  Total Trade Quantity  Turnover (Lacs)\n",
              "Open                  1.000000  0.998956  ...              0.367503         0.587026\n",
              "High                  0.998956  1.000000  ...              0.388798         0.605907\n",
              "Low                   0.998776  0.998728  ...              0.361695         0.582446\n",
              "Last                  0.997662  0.999130  ...              0.381269         0.599575\n",
              "Close                 0.997704  0.999159  ...              0.380801         0.599155\n",
              "Total Trade Quantity  0.367503  0.388798  ...              1.000000         0.941976\n",
              "Turnover (Lacs)       0.587026  0.605907  ...              0.941976         1.000000\n",
              "\n",
              "[7 rows x 7 columns]"
            ]
          },
          "metadata": {
            "tags": []
          },
          "execution_count": 29
        }
      ]
    },
    {
      "cell_type": "code",
      "metadata": {
        "colab": {
          "base_uri": "https://localhost:8080/",
          "height": 376
        },
        "id": "plkVEGweeSZB",
        "outputId": "b2017b8a-d2e5-4123-e4cb-1f301c387b32"
      },
      "source": [
        "import seaborn as sns\r\n",
        "sns.heatmap(corr,annot=True)"
      ],
      "execution_count": 30,
      "outputs": [
        {
          "output_type": "execute_result",
          "data": {
            "text/plain": [
              "<matplotlib.axes._subplots.AxesSubplot at 0x7ff993683278>"
            ]
          },
          "metadata": {
            "tags": []
          },
          "execution_count": 30
        },
        {
          "output_type": "display_data",
          "data": {
            "image/png": "[encoded data removed]",
            "text/plain": [
              "<Figure size 432x288 with 2 Axes>"
            ]
          },
          "metadata": {
            "tags": [],
            "needs_background": "light"
          }
        }
      ]
    },
    {
      "cell_type": "code",
      "metadata": {
        "colab": {
          "base_uri": "https://localhost:8080/"
        },
        "id": "2FtGAisyaXbz",
        "outputId": "3fecb7b6-9f73-4b81-bf85-5f35cc21e061"
      },
      "source": [
        "stock.isnull().sum()"
      ],
      "execution_count": 32,
      "outputs": [
        {
          "output_type": "execute_result",
          "data": {
            "text/plain": [
              "Date                    0\n",
              "Open                    0\n",
              "High                    0\n",
              "Low                     0\n",
              "Last                    0\n",
              "Close                   0\n",
              "Total Trade Quantity    0\n",
              "Turnover (Lacs)         0\n",
              "dtype: int64"
            ]
          },
          "metadata": {
            "tags": []
          },
          "execution_count": 32
        }
      ]
    },
    {
      "cell_type": "code",
      "metadata": {
        "id": "FYyRy_KUaXei"
      },
      "source": [
        "features=['High','Low','Last','Close','Total Trade Quantity','Turnover (Lacs)']\r\n",
        "X=stock[features]\r\n",
        "y=stock['Open']"
      ],
      "execution_count": 33,
      "outputs": []
    },
    {
      "cell_type": "code",
      "metadata": {
        "colab": {
          "base_uri": "https://localhost:8080/"
        },
        "id": "6xRkqvCgaXjD",
        "outputId": "72e86f92-6255-44f9-c87b-f37dd8e76871"
      },
      "source": [
        "print(X.head(3))\r\n",
        "print(y.head(3))"
      ],
      "execution_count": 34,
      "outputs": [
        {
          "output_type": "stream",
          "text": [
            "     High     Low    Last   Close  Total Trade Quantity  Turnover (Lacs)\n",
            "0  222.25  206.85  216.00  215.15             4642146.0         10062.83\n",
            "1  218.60  205.90  210.25  209.20             3519515.0          7407.06\n",
            "2  227.80  216.15  217.25  218.20             1728786.0          3815.79\n",
            "0    208.0\n",
            "1    217.0\n",
            "2    223.5\n",
            "Name: Open, dtype: float64\n"
          ],
          "name": "stdout"
        }
      ]
    },
    {
      "cell_type": "code",
      "metadata": {
        "colab": {
          "base_uri": "https://localhost:8080/"
        },
        "id": "P9c9XE-fiQc-",
        "outputId": "6707c726-d9f1-495e-f0c1-643735851ce3"
      },
      "source": [
        "X.shape"
      ],
      "execution_count": 35,
      "outputs": [
        {
          "output_type": "execute_result",
          "data": {
            "text/plain": [
              "(1235, 6)"
            ]
          },
          "metadata": {
            "tags": []
          },
          "execution_count": 35
        }
      ]
    },
    {
      "cell_type": "code",
      "metadata": {
        "id": "1OME9sy2ewJ6"
      },
      "source": [
        "from sklearn.model_selection import train_test_split\r\n",
        "X_train,X_test,y_train,y_test=train_test_split(X,y,test_size=0.2,random_state=0)"
      ],
      "execution_count": 36,
      "outputs": []
    },
    {
      "cell_type": "code",
      "metadata": {
        "colab": {
          "base_uri": "https://localhost:8080/"
        },
        "id": "kTCStJDmfao1",
        "outputId": "da9a075a-0cd1-4389-fafd-6e3dc25cdfc5"
      },
      "source": [
        "from sklearn.linear_model import LinearRegression\r\n",
        "lr=LinearRegression()\r\n",
        "\r\n",
        "lr.fit(X_train,y_train)"
      ],
      "execution_count": 37,
      "outputs": [
        {
          "output_type": "execute_result",
          "data": {
            "text/plain": [
              "LinearRegression(copy_X=True, fit_intercept=True, n_jobs=None, normalize=False)"
            ]
          },
          "metadata": {
            "tags": []
          },
          "execution_count": 37
        }
      ]
    },
    {
      "cell_type": "code",
      "metadata": {
        "id": "-NeDrAp3fptP"
      },
      "source": [
        "y_pred=lr.predict(X_test)"
      ],
      "execution_count": 38,
      "outputs": []
    },
    {
      "cell_type": "code",
      "metadata": {
        "colab": {
          "base_uri": "https://localhost:8080/"
        },
        "id": "ACIEQXMTfqQn",
        "outputId": "709a1649-d645-4f7e-e50f-06993af21562"
      },
      "source": [
        "lr.score(X_test,y_pred)"
      ],
      "execution_count": 39,
      "outputs": [
        {
          "output_type": "execute_result",
          "data": {
            "text/plain": [
              "1.0"
            ]
          },
          "metadata": {
            "tags": []
          },
          "execution_count": 39
        }
      ]
    },
    {
      "cell_type": "code",
      "metadata": {
        "colab": {
          "base_uri": "https://localhost:8080/"
        },
        "id": "SruD30C6fqTs",
        "outputId": "d48b6769-bc0e-4bb3-a780-39e295e64cdf"
      },
      "source": [
        "from sklearn.metrics import mean_squared_error\r\n",
        "\r\n",
        "rms = mean_squared_error(y_test, y_pred, squared=False)\r\n",
        "rms"
      ],
      "execution_count": 40,
      "outputs": [
        {
          "output_type": "execute_result",
          "data": {
            "text/plain": [
              "1.4123822262808345"
            ]
          },
          "metadata": {
            "tags": []
          },
          "execution_count": 40
        }
      ]
    },
    {
      "cell_type": "code",
      "metadata": {
        "colab": {
          "base_uri": "https://localhost:8080/"
        },
        "id": "EzZEs_WHfqZS",
        "outputId": "e20eb789-c4cf-4bae-9194-971fabf759a4"
      },
      "source": [
        "print(y_test[0:5])"
      ],
      "execution_count": 41,
      "outputs": [
        {
          "output_type": "stream",
          "text": [
            "1083    152.95\n",
            "18      221.00\n",
            "1099    156.50\n",
            "818     132.95\n",
            "184     314.65\n",
            "Name: Open, dtype: float64\n"
          ],
          "name": "stdout"
        }
      ]
    },
    {
      "cell_type": "code",
      "metadata": {
        "colab": {
          "base_uri": "https://localhost:8080/"
        },
        "id": "d4Bali0-gUiX",
        "outputId": "d64dc2d9-9da0-4603-f113-a21103dc2fa4"
      },
      "source": [
        "print(y_pred[0:5])"
      ],
      "execution_count": 42,
      "outputs": [
        {
          "output_type": "stream",
          "text": [
            "[152.08550043 221.26767579 155.7311964  133.23192171 314.35262099]\n"
          ],
          "name": "stdout"
        }
      ]
    },
    {
      "cell_type": "markdown",
      "metadata": {
        "id": "WfyYvMuSnPVP"
      },
      "source": [
        "Catboost Model "
      ]
    },
    {
      "cell_type": "code",
      "metadata": {
        "colab": {
          "base_uri": "https://localhost:8080/"
        },
        "id": "u9ne8mO_qP4l",
        "outputId": "5146ae42-6e18-4fb4-ff61-319b14a86f89"
      },
      "source": [
        "#!pip3 install catboost"
      ],
      "execution_count": 45,
      "outputs": [
        {
          "output_type": "stream",
          "text": [
            "Collecting catboost\n",
            "\u001b[?25l  Downloading https://files.pythonhosted.org/packages/20/37/bc4e0ddc30c07a96482abf1de7ed1ca54e59bba2026a33bca6d2ef286e5b/catboost-0.24.4-cp36-none-manylinux1_x86_64.whl (65.7MB)\n",
            "\u001b[K     |████████████████████████████████| 65.8MB 60kB/s \n",
            "\u001b[?25hRequirement already satisfied: matplotlib in /usr/local/lib/python3.6/dist-packages (from catboost) (3.2.2)\n",
            "Requirement already satisfied: graphviz in /usr/local/lib/python3.6/dist-packages (from catboost) (0.10.1)\n",
            "Requirement already satisfied: scipy in /usr/local/lib/python3.6/dist-packages (from catboost) (1.4.1)\n",
            "Requirement already satisfied: pandas>=0.24.0 in /usr/local/lib/python3.6/dist-packages (from catboost) (1.1.5)\n",
            "Requirement already satisfied: plotly in /usr/local/lib/python3.6/dist-packages (from catboost) (4.4.1)\n",
            "Requirement already satisfied: numpy>=1.16.0 in /usr/local/lib/python3.6/dist-packages (from catboost) (1.19.5)\n",
            "Requirement already satisfied: six in /usr/local/lib/python3.6/dist-packages (from catboost) (1.15.0)\n",
            "Requirement already satisfied: cycler>=0.10 in /usr/local/lib/python3.6/dist-packages (from matplotlib->catboost) (0.10.0)\n",
            "Requirement already satisfied: kiwisolver>=1.0.1 in /usr/local/lib/python3.6/dist-packages (from matplotlib->catboost) (1.3.1)\n",
            "Requirement already satisfied: pyparsing!=2.0.4,!=2.1.2,!=2.1.6,>=2.0.1 in /usr/local/lib/python3.6/dist-packages (from matplotlib->catboost) (2.4.7)\n",
            "Requirement already satisfied: python-dateutil>=2.1 in /usr/local/lib/python3.6/dist-packages (from matplotlib->catboost) (2.8.1)\n",
            "Requirement already satisfied: pytz>=2017.2 in /usr/local/lib/python3.6/dist-packages (from pandas>=0.24.0->catboost) (2018.9)\n",
            "Requirement already satisfied: retrying>=1.3.3 in /usr/local/lib/python3.6/dist-packages (from plotly->catboost) (1.3.3)\n",
            "Installing collected packages: catboost\n",
            "Successfully installed catboost-0.24.4\n"
          ],
          "name": "stdout"
        }
      ]
    },
    {
      "cell_type": "code",
      "metadata": {
        "id": "zUpUQSlvgi7V"
      },
      "source": [
        "from catboost import CatBoostRegressor"
      ],
      "execution_count": 46,
      "outputs": []
    },
    {
      "cell_type": "code",
      "metadata": {
        "id": "NI2cYTfZqHHq"
      },
      "source": [
        "model=CatBoostRegressor(iterations=500,learning_rate=0.1,depth=2)"
      ],
      "execution_count": 54,
      "outputs": []
    },
    {
      "cell_type": "code",
      "metadata": {
        "colab": {
          "base_uri": "https://localhost:8080/"
        },
        "id": "JbmcrwyjqxVF",
        "outputId": "94c71e06-d3d4-4225-bff7-8402acef9848"
      },
      "source": [
        "model.fit(X_train,y_train)"
      ],
      "execution_count": 55,
      "outputs": [
        {
          "output_type": "stream",
          "text": [
            "0:\tlearn: 47.9188284\ttotal: 608us\tremaining: 304ms\n",
            "1:\tlearn: 43.9573426\ttotal: 1.49ms\tremaining: 372ms\n",
            "2:\tlearn: 40.4840888\ttotal: 2.08ms\tremaining: 345ms\n",
            "3:\tlearn: 37.0399100\ttotal: 2.72ms\tremaining: 338ms\n",
            "4:\tlearn: 34.0252825\ttotal: 3.25ms\tremaining: 322ms\n",
            "5:\tlearn: 31.1551844\ttotal: 3.86ms\tremaining: 318ms\n",
            "6:\tlearn: 28.6463338\ttotal: 4.37ms\tremaining: 308ms\n",
            "7:\tlearn: 26.4229537\ttotal: 4.9ms\tremaining: 301ms\n",
            "8:\tlearn: 24.3630879\ttotal: 5.43ms\tremaining: 296ms\n",
            "9:\tlearn: 22.5569896\ttotal: 5.95ms\tremaining: 291ms\n",
            "10:\tlearn: 20.8623070\ttotal: 6.41ms\tremaining: 285ms\n",
            "11:\tlearn: 19.2340555\ttotal: 6.9ms\tremaining: 281ms\n",
            "12:\tlearn: 17.8446608\ttotal: 7.36ms\tremaining: 276ms\n",
            "13:\tlearn: 16.5133285\ttotal: 7.85ms\tremaining: 273ms\n",
            "14:\tlearn: 15.3455410\ttotal: 8.37ms\tremaining: 271ms\n",
            "15:\tlearn: 14.2650775\ttotal: 8.87ms\tremaining: 268ms\n",
            "16:\tlearn: 13.2811715\ttotal: 9.46ms\tremaining: 269ms\n",
            "17:\tlearn: 12.4073579\ttotal: 9.98ms\tremaining: 267ms\n",
            "18:\tlearn: 11.6852607\ttotal: 10.8ms\tremaining: 273ms\n",
            "19:\tlearn: 10.9560349\ttotal: 11.3ms\tremaining: 271ms\n",
            "20:\tlearn: 10.3158486\ttotal: 11.8ms\tremaining: 270ms\n",
            "21:\tlearn: 9.7549843\ttotal: 12.3ms\tremaining: 267ms\n",
            "22:\tlearn: 9.1900790\ttotal: 12.9ms\tremaining: 267ms\n",
            "23:\tlearn: 8.7076055\ttotal: 13.4ms\tremaining: 265ms\n",
            "24:\tlearn: 8.2180398\ttotal: 13.9ms\tremaining: 264ms\n",
            "25:\tlearn: 7.8092667\ttotal: 14.5ms\tremaining: 264ms\n",
            "26:\tlearn: 7.4229160\ttotal: 15ms\tremaining: 262ms\n",
            "27:\tlearn: 7.1068078\ttotal: 15.5ms\tremaining: 261ms\n",
            "28:\tlearn: 6.7724448\ttotal: 16.1ms\tremaining: 261ms\n",
            "29:\tlearn: 6.4605091\ttotal: 16.5ms\tremaining: 259ms\n",
            "30:\tlearn: 6.1863280\ttotal: 17ms\tremaining: 257ms\n",
            "31:\tlearn: 5.9575554\ttotal: 17.5ms\tremaining: 256ms\n",
            "32:\tlearn: 5.7358481\ttotal: 18ms\tremaining: 255ms\n",
            "33:\tlearn: 5.5437009\ttotal: 18.6ms\tremaining: 255ms\n",
            "34:\tlearn: 5.3822573\ttotal: 19.1ms\tremaining: 253ms\n",
            "35:\tlearn: 5.2229931\ttotal: 19.7ms\tremaining: 254ms\n",
            "36:\tlearn: 5.0842849\ttotal: 20.2ms\tremaining: 253ms\n",
            "37:\tlearn: 4.9480260\ttotal: 20.7ms\tremaining: 252ms\n",
            "38:\tlearn: 4.8229003\ttotal: 21.3ms\tremaining: 251ms\n",
            "39:\tlearn: 4.7277653\ttotal: 21.8ms\tremaining: 251ms\n",
            "40:\tlearn: 4.6270936\ttotal: 22.2ms\tremaining: 249ms\n",
            "41:\tlearn: 4.5358784\ttotal: 22.7ms\tremaining: 248ms\n",
            "42:\tlearn: 4.4494290\ttotal: 23.2ms\tremaining: 247ms\n",
            "43:\tlearn: 4.3744569\ttotal: 23.7ms\tremaining: 245ms\n",
            "44:\tlearn: 4.3074097\ttotal: 24.2ms\tremaining: 244ms\n",
            "45:\tlearn: 4.2439990\ttotal: 24.6ms\tremaining: 243ms\n",
            "46:\tlearn: 4.1709679\ttotal: 25.2ms\tremaining: 243ms\n",
            "47:\tlearn: 4.1029705\ttotal: 27.5ms\tremaining: 259ms\n",
            "48:\tlearn: 4.0463281\ttotal: 28.1ms\tremaining: 259ms\n",
            "49:\tlearn: 3.9987468\ttotal: 28.7ms\tremaining: 258ms\n",
            "50:\tlearn: 3.9626683\ttotal: 29.7ms\tremaining: 261ms\n",
            "51:\tlearn: 3.9190536\ttotal: 30.2ms\tremaining: 260ms\n",
            "52:\tlearn: 3.8833646\ttotal: 30.9ms\tremaining: 261ms\n",
            "53:\tlearn: 3.8511985\ttotal: 32.8ms\tremaining: 271ms\n",
            "54:\tlearn: 3.8225832\ttotal: 33.6ms\tremaining: 272ms\n",
            "55:\tlearn: 3.7963076\ttotal: 34.4ms\tremaining: 273ms\n",
            "56:\tlearn: 3.7735770\ttotal: 36ms\tremaining: 279ms\n",
            "57:\tlearn: 3.7561271\ttotal: 36.6ms\tremaining: 279ms\n",
            "58:\tlearn: 3.7265563\ttotal: 37.1ms\tremaining: 277ms\n",
            "59:\tlearn: 3.7044974\ttotal: 37.6ms\tremaining: 275ms\n",
            "60:\tlearn: 3.6853378\ttotal: 38ms\tremaining: 274ms\n",
            "61:\tlearn: 3.6718205\ttotal: 38.5ms\tremaining: 272ms\n",
            "62:\tlearn: 3.6554504\ttotal: 38.9ms\tremaining: 270ms\n",
            "63:\tlearn: 3.6438034\ttotal: 39.4ms\tremaining: 268ms\n",
            "64:\tlearn: 3.6279708\ttotal: 39.8ms\tremaining: 267ms\n",
            "65:\tlearn: 3.6103160\ttotal: 40.3ms\tremaining: 265ms\n",
            "66:\tlearn: 3.5992547\ttotal: 40.8ms\tremaining: 264ms\n",
            "67:\tlearn: 3.5879985\ttotal: 41.2ms\tremaining: 262ms\n",
            "68:\tlearn: 3.5727016\ttotal: 41.8ms\tremaining: 261ms\n",
            "69:\tlearn: 3.5620447\ttotal: 42.2ms\tremaining: 259ms\n",
            "70:\tlearn: 3.5534523\ttotal: 42.7ms\tremaining: 258ms\n",
            "71:\tlearn: 3.5453255\ttotal: 43.2ms\tremaining: 257ms\n",
            "72:\tlearn: 3.5321325\ttotal: 43.7ms\tremaining: 255ms\n",
            "73:\tlearn: 3.5259387\ttotal: 44.1ms\tremaining: 254ms\n",
            "74:\tlearn: 3.5156863\ttotal: 44.6ms\tremaining: 253ms\n",
            "75:\tlearn: 3.4988182\ttotal: 45ms\tremaining: 251ms\n",
            "76:\tlearn: 3.4849495\ttotal: 45.5ms\tremaining: 250ms\n",
            "77:\tlearn: 3.4794281\ttotal: 45.9ms\tremaining: 249ms\n",
            "78:\tlearn: 3.4732338\ttotal: 46.4ms\tremaining: 247ms\n",
            "79:\tlearn: 3.4670663\ttotal: 46.8ms\tremaining: 246ms\n",
            "80:\tlearn: 3.4584573\ttotal: 47.3ms\tremaining: 245ms\n",
            "81:\tlearn: 3.4537933\ttotal: 47.8ms\tremaining: 244ms\n",
            "82:\tlearn: 3.4476040\ttotal: 48.3ms\tremaining: 243ms\n",
            "83:\tlearn: 3.4426914\ttotal: 48.8ms\tremaining: 242ms\n",
            "84:\tlearn: 3.4373856\ttotal: 49.3ms\tremaining: 241ms\n",
            "85:\tlearn: 3.4268335\ttotal: 49.8ms\tremaining: 240ms\n",
            "86:\tlearn: 3.4180452\ttotal: 50.2ms\tremaining: 238ms\n",
            "87:\tlearn: 3.4132923\ttotal: 50.7ms\tremaining: 238ms\n",
            "88:\tlearn: 3.4036087\ttotal: 51.2ms\tremaining: 237ms\n",
            "89:\tlearn: 3.3986058\ttotal: 51.6ms\tremaining: 235ms\n",
            "90:\tlearn: 3.3912976\ttotal: 52.1ms\tremaining: 234ms\n",
            "91:\tlearn: 3.3869875\ttotal: 52.5ms\tremaining: 233ms\n",
            "92:\tlearn: 3.3839925\ttotal: 53ms\tremaining: 232ms\n",
            "93:\tlearn: 3.3783344\ttotal: 53.5ms\tremaining: 231ms\n",
            "94:\tlearn: 3.3743688\ttotal: 53.9ms\tremaining: 230ms\n",
            "95:\tlearn: 3.3541713\ttotal: 54.4ms\tremaining: 229ms\n",
            "96:\tlearn: 3.3064908\ttotal: 54.9ms\tremaining: 228ms\n",
            "97:\tlearn: 3.2970717\ttotal: 55.4ms\tremaining: 227ms\n",
            "98:\tlearn: 3.2948658\ttotal: 55.8ms\tremaining: 226ms\n",
            "99:\tlearn: 3.2867082\ttotal: 56.3ms\tremaining: 225ms\n",
            "100:\tlearn: 3.2777280\ttotal: 56.8ms\tremaining: 224ms\n",
            "101:\tlearn: 3.2698976\ttotal: 57.2ms\tremaining: 223ms\n",
            "102:\tlearn: 3.2643800\ttotal: 57.8ms\tremaining: 223ms\n",
            "103:\tlearn: 3.2575114\ttotal: 58.3ms\tremaining: 222ms\n",
            "104:\tlearn: 3.2539973\ttotal: 58.8ms\tremaining: 221ms\n",
            "105:\tlearn: 3.2502983\ttotal: 59.3ms\tremaining: 221ms\n",
            "106:\tlearn: 3.2443020\ttotal: 59.9ms\tremaining: 220ms\n",
            "107:\tlearn: 3.2372306\ttotal: 60.3ms\tremaining: 219ms\n",
            "108:\tlearn: 3.1959494\ttotal: 60.8ms\tremaining: 218ms\n",
            "109:\tlearn: 3.1912881\ttotal: 61.4ms\tremaining: 218ms\n",
            "110:\tlearn: 3.1569454\ttotal: 62ms\tremaining: 217ms\n",
            "111:\tlearn: 3.1496536\ttotal: 62.6ms\tremaining: 217ms\n",
            "112:\tlearn: 3.1211351\ttotal: 63.1ms\tremaining: 216ms\n",
            "113:\tlearn: 3.1144176\ttotal: 63.6ms\tremaining: 215ms\n",
            "114:\tlearn: 3.1098920\ttotal: 64.1ms\tremaining: 215ms\n",
            "115:\tlearn: 3.1045651\ttotal: 64.7ms\tremaining: 214ms\n",
            "116:\tlearn: 3.0802622\ttotal: 65.2ms\tremaining: 214ms\n",
            "117:\tlearn: 3.0754492\ttotal: 65.8ms\tremaining: 213ms\n",
            "118:\tlearn: 3.0549347\ttotal: 66.2ms\tremaining: 212ms\n",
            "119:\tlearn: 3.0513486\ttotal: 66.7ms\tremaining: 211ms\n",
            "120:\tlearn: 3.0469943\ttotal: 67.2ms\tremaining: 211ms\n",
            "121:\tlearn: 3.0415988\ttotal: 67.7ms\tremaining: 210ms\n",
            "122:\tlearn: 3.0238264\ttotal: 68.2ms\tremaining: 209ms\n",
            "123:\tlearn: 3.0169760\ttotal: 68.7ms\tremaining: 208ms\n",
            "124:\tlearn: 3.0138934\ttotal: 69.2ms\tremaining: 208ms\n",
            "125:\tlearn: 3.0111887\ttotal: 69.8ms\tremaining: 207ms\n",
            "126:\tlearn: 3.0066025\ttotal: 70.3ms\tremaining: 206ms\n",
            "127:\tlearn: 3.0021486\ttotal: 70.8ms\tremaining: 206ms\n",
            "128:\tlearn: 2.9869279\ttotal: 71.3ms\tremaining: 205ms\n",
            "129:\tlearn: 2.9850457\ttotal: 71.8ms\tremaining: 204ms\n",
            "130:\tlearn: 2.9792930\ttotal: 72.3ms\tremaining: 204ms\n",
            "131:\tlearn: 2.9734653\ttotal: 72.8ms\tremaining: 203ms\n",
            "132:\tlearn: 2.9713006\ttotal: 73.3ms\tremaining: 202ms\n",
            "133:\tlearn: 2.9577102\ttotal: 73.9ms\tremaining: 202ms\n",
            "134:\tlearn: 2.9552293\ttotal: 74.4ms\tremaining: 201ms\n",
            "135:\tlearn: 2.9500515\ttotal: 74.9ms\tremaining: 201ms\n",
            "136:\tlearn: 2.9373424\ttotal: 75.5ms\tremaining: 200ms\n",
            "137:\tlearn: 2.9324153\ttotal: 76ms\tremaining: 199ms\n",
            "138:\tlearn: 2.9311817\ttotal: 76.5ms\tremaining: 199ms\n",
            "139:\tlearn: 2.9277685\ttotal: 77ms\tremaining: 198ms\n",
            "140:\tlearn: 2.9264924\ttotal: 77.5ms\tremaining: 197ms\n",
            "141:\tlearn: 2.9253406\ttotal: 78ms\tremaining: 197ms\n",
            "142:\tlearn: 2.9148101\ttotal: 78.5ms\tremaining: 196ms\n",
            "143:\tlearn: 2.9110367\ttotal: 79ms\tremaining: 195ms\n",
            "144:\tlearn: 2.9075981\ttotal: 79.5ms\tremaining: 195ms\n",
            "145:\tlearn: 2.9035433\ttotal: 80ms\tremaining: 194ms\n",
            "146:\tlearn: 2.8917796\ttotal: 80.6ms\tremaining: 193ms\n",
            "147:\tlearn: 2.8881178\ttotal: 81.1ms\tremaining: 193ms\n",
            "148:\tlearn: 2.8861305\ttotal: 81.6ms\tremaining: 192ms\n",
            "149:\tlearn: 2.8835409\ttotal: 82.1ms\tremaining: 192ms\n",
            "150:\tlearn: 2.8702624\ttotal: 82.7ms\tremaining: 191ms\n",
            "151:\tlearn: 2.8674516\ttotal: 83.3ms\tremaining: 191ms\n",
            "152:\tlearn: 2.8663624\ttotal: 83.8ms\tremaining: 190ms\n",
            "153:\tlearn: 2.8553854\ttotal: 84.7ms\tremaining: 190ms\n",
            "154:\tlearn: 2.8544136\ttotal: 85.1ms\tremaining: 190ms\n",
            "155:\tlearn: 2.8511647\ttotal: 85.6ms\tremaining: 189ms\n",
            "156:\tlearn: 2.8454847\ttotal: 86.2ms\tremaining: 188ms\n",
            "157:\tlearn: 2.8407605\ttotal: 86.7ms\tremaining: 188ms\n",
            "158:\tlearn: 2.8388846\ttotal: 87.2ms\tremaining: 187ms\n",
            "159:\tlearn: 2.8360298\ttotal: 87.8ms\tremaining: 186ms\n",
            "160:\tlearn: 2.8326770\ttotal: 88.3ms\tremaining: 186ms\n",
            "161:\tlearn: 2.8315641\ttotal: 88.8ms\tremaining: 185ms\n",
            "162:\tlearn: 2.8283630\ttotal: 89.4ms\tremaining: 185ms\n",
            "163:\tlearn: 2.8276900\ttotal: 90ms\tremaining: 184ms\n",
            "164:\tlearn: 2.8243808\ttotal: 90.5ms\tremaining: 184ms\n",
            "165:\tlearn: 2.8235715\ttotal: 91.2ms\tremaining: 183ms\n",
            "166:\tlearn: 2.8200793\ttotal: 91.7ms\tremaining: 183ms\n",
            "167:\tlearn: 2.8109332\ttotal: 92.2ms\tremaining: 182ms\n",
            "168:\tlearn: 2.8035495\ttotal: 92.8ms\tremaining: 182ms\n",
            "169:\tlearn: 2.7993100\ttotal: 93.3ms\tremaining: 181ms\n",
            "170:\tlearn: 2.7916941\ttotal: 93.9ms\tremaining: 181ms\n",
            "171:\tlearn: 2.7899409\ttotal: 94.4ms\tremaining: 180ms\n",
            "172:\tlearn: 2.7834547\ttotal: 95ms\tremaining: 180ms\n",
            "173:\tlearn: 2.7804340\ttotal: 95.5ms\tremaining: 179ms\n",
            "174:\tlearn: 2.7776636\ttotal: 96.1ms\tremaining: 178ms\n",
            "175:\tlearn: 2.7747157\ttotal: 96.8ms\tremaining: 178ms\n",
            "176:\tlearn: 2.7736068\ttotal: 97.3ms\tremaining: 178ms\n",
            "177:\tlearn: 2.7725241\ttotal: 97.9ms\tremaining: 177ms\n",
            "178:\tlearn: 2.7676212\ttotal: 98.5ms\tremaining: 177ms\n",
            "179:\tlearn: 2.7637901\ttotal: 99.1ms\tremaining: 176ms\n",
            "180:\tlearn: 2.7584670\ttotal: 99.6ms\tremaining: 176ms\n",
            "181:\tlearn: 2.7560553\ttotal: 100ms\tremaining: 175ms\n",
            "182:\tlearn: 2.7536273\ttotal: 101ms\tremaining: 174ms\n",
            "183:\tlearn: 2.7500631\ttotal: 101ms\tremaining: 174ms\n",
            "184:\tlearn: 2.7401246\ttotal: 102ms\tremaining: 173ms\n",
            "185:\tlearn: 2.7374167\ttotal: 102ms\tremaining: 173ms\n",
            "186:\tlearn: 2.7334853\ttotal: 103ms\tremaining: 172ms\n",
            "187:\tlearn: 2.7223297\ttotal: 103ms\tremaining: 172ms\n",
            "188:\tlearn: 2.7185594\ttotal: 104ms\tremaining: 171ms\n",
            "189:\tlearn: 2.7165063\ttotal: 104ms\tremaining: 170ms\n",
            "190:\tlearn: 2.7145724\ttotal: 105ms\tremaining: 170ms\n",
            "191:\tlearn: 2.7128853\ttotal: 105ms\tremaining: 169ms\n",
            "192:\tlearn: 2.7110915\ttotal: 106ms\tremaining: 169ms\n",
            "193:\tlearn: 2.7058773\ttotal: 107ms\tremaining: 168ms\n",
            "194:\tlearn: 2.7034557\ttotal: 107ms\tremaining: 167ms\n",
            "195:\tlearn: 2.7016719\ttotal: 108ms\tremaining: 167ms\n",
            "196:\tlearn: 2.6966939\ttotal: 108ms\tremaining: 166ms\n",
            "197:\tlearn: 2.6950674\ttotal: 109ms\tremaining: 166ms\n",
            "198:\tlearn: 2.6889084\ttotal: 109ms\tremaining: 165ms\n",
            "199:\tlearn: 2.6880192\ttotal: 110ms\tremaining: 165ms\n",
            "200:\tlearn: 2.6863242\ttotal: 110ms\tremaining: 164ms\n",
            "201:\tlearn: 2.6845229\ttotal: 111ms\tremaining: 163ms\n",
            "202:\tlearn: 2.6808692\ttotal: 111ms\tremaining: 163ms\n",
            "203:\tlearn: 2.6780224\ttotal: 112ms\tremaining: 162ms\n",
            "204:\tlearn: 2.6718372\ttotal: 112ms\tremaining: 162ms\n",
            "205:\tlearn: 2.6702975\ttotal: 113ms\tremaining: 161ms\n",
            "206:\tlearn: 2.6695873\ttotal: 114ms\tremaining: 161ms\n",
            "207:\tlearn: 2.6689617\ttotal: 114ms\tremaining: 160ms\n",
            "208:\tlearn: 2.6669962\ttotal: 115ms\tremaining: 160ms\n",
            "209:\tlearn: 2.6633868\ttotal: 115ms\tremaining: 159ms\n",
            "210:\tlearn: 2.6600717\ttotal: 116ms\tremaining: 159ms\n",
            "211:\tlearn: 2.6570141\ttotal: 116ms\tremaining: 158ms\n",
            "212:\tlearn: 2.6546521\ttotal: 117ms\tremaining: 158ms\n",
            "213:\tlearn: 2.6494997\ttotal: 117ms\tremaining: 157ms\n",
            "214:\tlearn: 2.6395105\ttotal: 118ms\tremaining: 156ms\n",
            "215:\tlearn: 2.6371248\ttotal: 118ms\tremaining: 156ms\n",
            "216:\tlearn: 2.6343221\ttotal: 119ms\tremaining: 155ms\n",
            "217:\tlearn: 2.6289601\ttotal: 119ms\tremaining: 154ms\n",
            "218:\tlearn: 2.6273146\ttotal: 120ms\tremaining: 154ms\n",
            "219:\tlearn: 2.6261235\ttotal: 120ms\tremaining: 153ms\n",
            "220:\tlearn: 2.6247305\ttotal: 121ms\tremaining: 153ms\n",
            "221:\tlearn: 2.6206655\ttotal: 121ms\tremaining: 152ms\n",
            "222:\tlearn: 2.6181926\ttotal: 122ms\tremaining: 151ms\n",
            "223:\tlearn: 2.6156580\ttotal: 122ms\tremaining: 151ms\n",
            "224:\tlearn: 2.6118633\ttotal: 123ms\tremaining: 150ms\n",
            "225:\tlearn: 2.6084430\ttotal: 123ms\tremaining: 150ms\n",
            "226:\tlearn: 2.6070498\ttotal: 124ms\tremaining: 149ms\n",
            "227:\tlearn: 2.6057841\ttotal: 125ms\tremaining: 149ms\n",
            "228:\tlearn: 2.6016232\ttotal: 125ms\tremaining: 148ms\n",
            "229:\tlearn: 2.5992976\ttotal: 126ms\tremaining: 147ms\n",
            "230:\tlearn: 2.5984430\ttotal: 126ms\tremaining: 147ms\n",
            "231:\tlearn: 2.5962903\ttotal: 127ms\tremaining: 146ms\n",
            "232:\tlearn: 2.5954764\ttotal: 127ms\tremaining: 146ms\n",
            "233:\tlearn: 2.5935794\ttotal: 128ms\tremaining: 145ms\n",
            "234:\tlearn: 2.5912875\ttotal: 128ms\tremaining: 145ms\n",
            "235:\tlearn: 2.5893067\ttotal: 129ms\tremaining: 144ms\n",
            "236:\tlearn: 2.5861486\ttotal: 129ms\tremaining: 143ms\n",
            "237:\tlearn: 2.5816148\ttotal: 130ms\tremaining: 143ms\n",
            "238:\tlearn: 2.5811725\ttotal: 130ms\tremaining: 142ms\n",
            "239:\tlearn: 2.5806727\ttotal: 131ms\tremaining: 142ms\n",
            "240:\tlearn: 2.5756905\ttotal: 131ms\tremaining: 141ms\n",
            "241:\tlearn: 2.5750333\ttotal: 132ms\tremaining: 141ms\n",
            "242:\tlearn: 2.5716746\ttotal: 133ms\tremaining: 140ms\n",
            "243:\tlearn: 2.5690105\ttotal: 133ms\tremaining: 140ms\n",
            "244:\tlearn: 2.5677970\ttotal: 134ms\tremaining: 139ms\n",
            "245:\tlearn: 2.5651410\ttotal: 134ms\tremaining: 138ms\n",
            "246:\tlearn: 2.5639559\ttotal: 135ms\tremaining: 138ms\n",
            "247:\tlearn: 2.5609229\ttotal: 135ms\tremaining: 137ms\n",
            "248:\tlearn: 2.5570766\ttotal: 136ms\tremaining: 137ms\n",
            "249:\tlearn: 2.5540084\ttotal: 136ms\tremaining: 136ms\n",
            "250:\tlearn: 2.5473200\ttotal: 137ms\tremaining: 136ms\n",
            "251:\tlearn: 2.5442878\ttotal: 137ms\tremaining: 135ms\n",
            "252:\tlearn: 2.5393697\ttotal: 138ms\tremaining: 135ms\n",
            "253:\tlearn: 2.5364488\ttotal: 138ms\tremaining: 134ms\n",
            "254:\tlearn: 2.5345400\ttotal: 139ms\tremaining: 133ms\n",
            "255:\tlearn: 2.5319849\ttotal: 139ms\tremaining: 133ms\n",
            "256:\tlearn: 2.5217794\ttotal: 140ms\tremaining: 132ms\n",
            "257:\tlearn: 2.5139746\ttotal: 141ms\tremaining: 132ms\n",
            "258:\tlearn: 2.5054201\ttotal: 141ms\tremaining: 131ms\n",
            "259:\tlearn: 2.5047919\ttotal: 142ms\tremaining: 131ms\n",
            "260:\tlearn: 2.4993923\ttotal: 142ms\tremaining: 130ms\n",
            "261:\tlearn: 2.4940722\ttotal: 143ms\tremaining: 130ms\n",
            "262:\tlearn: 2.4904564\ttotal: 143ms\tremaining: 129ms\n",
            "263:\tlearn: 2.4887372\ttotal: 144ms\tremaining: 129ms\n",
            "264:\tlearn: 2.4862253\ttotal: 144ms\tremaining: 128ms\n",
            "265:\tlearn: 2.4841789\ttotal: 145ms\tremaining: 127ms\n",
            "266:\tlearn: 2.4810976\ttotal: 145ms\tremaining: 127ms\n",
            "267:\tlearn: 2.4784850\ttotal: 146ms\tremaining: 126ms\n",
            "268:\tlearn: 2.4778647\ttotal: 146ms\tremaining: 126ms\n",
            "269:\tlearn: 2.4717741\ttotal: 147ms\tremaining: 125ms\n",
            "270:\tlearn: 2.4691413\ttotal: 148ms\tremaining: 125ms\n",
            "271:\tlearn: 2.4678662\ttotal: 148ms\tremaining: 124ms\n",
            "272:\tlearn: 2.4626555\ttotal: 149ms\tremaining: 124ms\n",
            "273:\tlearn: 2.4555166\ttotal: 149ms\tremaining: 123ms\n",
            "274:\tlearn: 2.4528247\ttotal: 150ms\tremaining: 123ms\n",
            "275:\tlearn: 2.4481492\ttotal: 150ms\tremaining: 122ms\n",
            "276:\tlearn: 2.4475960\ttotal: 151ms\tremaining: 121ms\n",
            "277:\tlearn: 2.4458251\ttotal: 151ms\tremaining: 121ms\n",
            "278:\tlearn: 2.4453801\ttotal: 152ms\tremaining: 120ms\n",
            "279:\tlearn: 2.4427983\ttotal: 152ms\tremaining: 120ms\n",
            "280:\tlearn: 2.4400126\ttotal: 153ms\tremaining: 119ms\n",
            "281:\tlearn: 2.4377152\ttotal: 153ms\tremaining: 119ms\n",
            "282:\tlearn: 2.4344214\ttotal: 154ms\tremaining: 118ms\n",
            "283:\tlearn: 2.4318038\ttotal: 155ms\tremaining: 118ms\n",
            "284:\tlearn: 2.4310793\ttotal: 155ms\tremaining: 117ms\n",
            "285:\tlearn: 2.4292052\ttotal: 156ms\tremaining: 116ms\n",
            "286:\tlearn: 2.4263680\ttotal: 156ms\tremaining: 116ms\n",
            "287:\tlearn: 2.4245603\ttotal: 157ms\tremaining: 115ms\n",
            "288:\tlearn: 2.4230859\ttotal: 157ms\tremaining: 115ms\n",
            "289:\tlearn: 2.4207224\ttotal: 158ms\tremaining: 114ms\n",
            "290:\tlearn: 2.4204376\ttotal: 158ms\tremaining: 114ms\n",
            "291:\tlearn: 2.4160053\ttotal: 159ms\tremaining: 113ms\n",
            "292:\tlearn: 2.4118240\ttotal: 160ms\tremaining: 113ms\n",
            "293:\tlearn: 2.4081369\ttotal: 160ms\tremaining: 112ms\n",
            "294:\tlearn: 2.4061538\ttotal: 161ms\tremaining: 112ms\n",
            "295:\tlearn: 2.4021837\ttotal: 161ms\tremaining: 111ms\n",
            "296:\tlearn: 2.3997010\ttotal: 162ms\tremaining: 110ms\n",
            "297:\tlearn: 2.3962322\ttotal: 162ms\tremaining: 110ms\n",
            "298:\tlearn: 2.3918619\ttotal: 163ms\tremaining: 109ms\n",
            "299:\tlearn: 2.3873400\ttotal: 163ms\tremaining: 109ms\n",
            "300:\tlearn: 2.3858327\ttotal: 164ms\tremaining: 108ms\n",
            "301:\tlearn: 2.3821179\ttotal: 164ms\tremaining: 108ms\n",
            "302:\tlearn: 2.3801248\ttotal: 169ms\tremaining: 110ms\n",
            "303:\tlearn: 2.3786964\ttotal: 170ms\tremaining: 109ms\n",
            "304:\tlearn: 2.3759853\ttotal: 170ms\tremaining: 109ms\n",
            "305:\tlearn: 2.3749609\ttotal: 171ms\tremaining: 108ms\n",
            "306:\tlearn: 2.3732150\ttotal: 172ms\tremaining: 108ms\n",
            "307:\tlearn: 2.3713411\ttotal: 172ms\tremaining: 107ms\n",
            "308:\tlearn: 2.3690675\ttotal: 173ms\tremaining: 107ms\n",
            "309:\tlearn: 2.3661948\ttotal: 173ms\tremaining: 106ms\n",
            "310:\tlearn: 2.3614347\ttotal: 174ms\tremaining: 106ms\n",
            "311:\tlearn: 2.3587564\ttotal: 174ms\tremaining: 105ms\n",
            "312:\tlearn: 2.3583231\ttotal: 175ms\tremaining: 105ms\n",
            "313:\tlearn: 2.3554741\ttotal: 175ms\tremaining: 104ms\n",
            "314:\tlearn: 2.3545814\ttotal: 176ms\tremaining: 103ms\n",
            "315:\tlearn: 2.3495244\ttotal: 177ms\tremaining: 103ms\n",
            "316:\tlearn: 2.3471147\ttotal: 177ms\tremaining: 102ms\n",
            "317:\tlearn: 2.3434160\ttotal: 178ms\tremaining: 102ms\n",
            "318:\tlearn: 2.3396231\ttotal: 178ms\tremaining: 101ms\n",
            "319:\tlearn: 2.3372924\ttotal: 179ms\tremaining: 101ms\n",
            "320:\tlearn: 2.3313576\ttotal: 179ms\tremaining: 100ms\n",
            "321:\tlearn: 2.3295566\ttotal: 180ms\tremaining: 99.4ms\n",
            "322:\tlearn: 2.3237549\ttotal: 180ms\tremaining: 98.8ms\n",
            "323:\tlearn: 2.3209835\ttotal: 181ms\tremaining: 98.2ms\n",
            "324:\tlearn: 2.3184377\ttotal: 181ms\tremaining: 97.7ms\n",
            "325:\tlearn: 2.3145641\ttotal: 182ms\tremaining: 97.1ms\n",
            "326:\tlearn: 2.3130147\ttotal: 183ms\tremaining: 96.6ms\n",
            "327:\tlearn: 2.3107030\ttotal: 183ms\tremaining: 96ms\n",
            "328:\tlearn: 2.3085601\ttotal: 184ms\tremaining: 95.4ms\n",
            "329:\tlearn: 2.3074257\ttotal: 184ms\tremaining: 94.8ms\n",
            "330:\tlearn: 2.3070683\ttotal: 185ms\tremaining: 94.3ms\n",
            "331:\tlearn: 2.3053866\ttotal: 185ms\tremaining: 93.7ms\n",
            "332:\tlearn: 2.3035485\ttotal: 186ms\tremaining: 93.1ms\n",
            "333:\tlearn: 2.3013595\ttotal: 186ms\tremaining: 92.5ms\n",
            "334:\tlearn: 2.2986553\ttotal: 187ms\tremaining: 92ms\n",
            "335:\tlearn: 2.2935930\ttotal: 187ms\tremaining: 91.4ms\n",
            "336:\tlearn: 2.2912080\ttotal: 188ms\tremaining: 90.8ms\n",
            "337:\tlearn: 2.2871431\ttotal: 188ms\tremaining: 90.2ms\n",
            "338:\tlearn: 2.2845703\ttotal: 189ms\tremaining: 89.7ms\n",
            "339:\tlearn: 2.2819378\ttotal: 189ms\tremaining: 89.1ms\n",
            "340:\tlearn: 2.2786530\ttotal: 190ms\tremaining: 88.5ms\n",
            "341:\tlearn: 2.2781074\ttotal: 190ms\tremaining: 88ms\n",
            "342:\tlearn: 2.2762145\ttotal: 191ms\tremaining: 87.4ms\n",
            "343:\tlearn: 2.2757420\ttotal: 191ms\tremaining: 86.8ms\n",
            "344:\tlearn: 2.2737466\ttotal: 192ms\tremaining: 86.2ms\n",
            "345:\tlearn: 2.2732325\ttotal: 192ms\tremaining: 85.7ms\n",
            "346:\tlearn: 2.2698562\ttotal: 193ms\tremaining: 85.1ms\n",
            "347:\tlearn: 2.2682548\ttotal: 193ms\tremaining: 84.5ms\n",
            "348:\tlearn: 2.2660317\ttotal: 194ms\tremaining: 83.9ms\n",
            "349:\tlearn: 2.2625491\ttotal: 194ms\tremaining: 83.3ms\n",
            "350:\tlearn: 2.2601629\ttotal: 195ms\tremaining: 82.8ms\n",
            "351:\tlearn: 2.2568851\ttotal: 195ms\tremaining: 82.2ms\n",
            "352:\tlearn: 2.2546427\ttotal: 196ms\tremaining: 81.6ms\n",
            "353:\tlearn: 2.2510190\ttotal: 197ms\tremaining: 81.1ms\n",
            "354:\tlearn: 2.2471952\ttotal: 197ms\tremaining: 80.5ms\n",
            "355:\tlearn: 2.2446086\ttotal: 198ms\tremaining: 79.9ms\n",
            "356:\tlearn: 2.2435946\ttotal: 198ms\tremaining: 79.4ms\n",
            "357:\tlearn: 2.2415316\ttotal: 199ms\tremaining: 78.8ms\n",
            "358:\tlearn: 2.2396241\ttotal: 199ms\tremaining: 78.2ms\n",
            "359:\tlearn: 2.2384359\ttotal: 200ms\tremaining: 77.6ms\n",
            "360:\tlearn: 2.2363373\ttotal: 200ms\tremaining: 77.1ms\n",
            "361:\tlearn: 2.2336576\ttotal: 201ms\tremaining: 76.5ms\n",
            "362:\tlearn: 2.2333685\ttotal: 201ms\tremaining: 76ms\n",
            "363:\tlearn: 2.2324059\ttotal: 202ms\tremaining: 75.4ms\n",
            "364:\tlearn: 2.2310829\ttotal: 202ms\tremaining: 74.8ms\n",
            "365:\tlearn: 2.2306220\ttotal: 203ms\tremaining: 74.2ms\n",
            "366:\tlearn: 2.2299460\ttotal: 203ms\tremaining: 73.7ms\n",
            "367:\tlearn: 2.2269375\ttotal: 204ms\tremaining: 73.1ms\n",
            "368:\tlearn: 2.2233271\ttotal: 204ms\tremaining: 72.5ms\n",
            "369:\tlearn: 2.2194331\ttotal: 205ms\tremaining: 71.9ms\n",
            "370:\tlearn: 2.2166980\ttotal: 205ms\tremaining: 71.4ms\n",
            "371:\tlearn: 2.2156116\ttotal: 206ms\tremaining: 70.9ms\n",
            "372:\tlearn: 2.2138218\ttotal: 206ms\tremaining: 70.3ms\n",
            "373:\tlearn: 2.2119345\ttotal: 207ms\tremaining: 69.7ms\n",
            "374:\tlearn: 2.2103411\ttotal: 207ms\tremaining: 69.1ms\n",
            "375:\tlearn: 2.2073447\ttotal: 208ms\tremaining: 68.6ms\n",
            "376:\tlearn: 2.2065619\ttotal: 208ms\tremaining: 68ms\n",
            "377:\tlearn: 2.2058707\ttotal: 209ms\tremaining: 67.4ms\n",
            "378:\tlearn: 2.2031776\ttotal: 209ms\tremaining: 66.9ms\n",
            "379:\tlearn: 2.1986350\ttotal: 210ms\tremaining: 66.3ms\n",
            "380:\tlearn: 2.1982781\ttotal: 210ms\tremaining: 65.7ms\n",
            "381:\tlearn: 2.1960532\ttotal: 211ms\tremaining: 65.2ms\n",
            "382:\tlearn: 2.1931852\ttotal: 211ms\tremaining: 64.6ms\n",
            "383:\tlearn: 2.1909758\ttotal: 212ms\tremaining: 64ms\n",
            "384:\tlearn: 2.1886445\ttotal: 213ms\tremaining: 63.5ms\n",
            "385:\tlearn: 2.1841146\ttotal: 213ms\tremaining: 62.9ms\n",
            "386:\tlearn: 2.1825901\ttotal: 214ms\tremaining: 62.4ms\n",
            "387:\tlearn: 2.1821392\ttotal: 214ms\tremaining: 61.8ms\n",
            "388:\tlearn: 2.1801016\ttotal: 215ms\tremaining: 61.2ms\n",
            "389:\tlearn: 2.1787546\ttotal: 215ms\tremaining: 60.7ms\n",
            "390:\tlearn: 2.1775718\ttotal: 216ms\tremaining: 60.1ms\n",
            "391:\tlearn: 2.1743066\ttotal: 216ms\tremaining: 59.5ms\n",
            "392:\tlearn: 2.1728493\ttotal: 217ms\tremaining: 59ms\n",
            "393:\tlearn: 2.1710507\ttotal: 217ms\tremaining: 58.4ms\n",
            "394:\tlearn: 2.1682991\ttotal: 218ms\tremaining: 57.9ms\n",
            "395:\tlearn: 2.1649351\ttotal: 218ms\tremaining: 57.3ms\n",
            "396:\tlearn: 2.1624909\ttotal: 219ms\tremaining: 56.7ms\n",
            "397:\tlearn: 2.1609358\ttotal: 219ms\tremaining: 56.2ms\n",
            "398:\tlearn: 2.1581950\ttotal: 220ms\tremaining: 55.6ms\n",
            "399:\tlearn: 2.1546568\ttotal: 220ms\tremaining: 55ms\n",
            "400:\tlearn: 2.1533001\ttotal: 221ms\tremaining: 54.5ms\n",
            "401:\tlearn: 2.1512200\ttotal: 221ms\tremaining: 53.9ms\n",
            "402:\tlearn: 2.1498253\ttotal: 222ms\tremaining: 53.4ms\n",
            "403:\tlearn: 2.1494592\ttotal: 222ms\tremaining: 52.8ms\n",
            "404:\tlearn: 2.1457498\ttotal: 223ms\tremaining: 52.2ms\n",
            "405:\tlearn: 2.1443241\ttotal: 223ms\tremaining: 51.7ms\n",
            "406:\tlearn: 2.1425734\ttotal: 224ms\tremaining: 51.1ms\n",
            "407:\tlearn: 2.1413472\ttotal: 224ms\tremaining: 50.6ms\n",
            "408:\tlearn: 2.1400640\ttotal: 225ms\tremaining: 50ms\n",
            "409:\tlearn: 2.1390472\ttotal: 225ms\tremaining: 49.5ms\n",
            "410:\tlearn: 2.1376352\ttotal: 226ms\tremaining: 48.9ms\n",
            "411:\tlearn: 2.1361000\ttotal: 226ms\tremaining: 48.3ms\n",
            "412:\tlearn: 2.1348350\ttotal: 227ms\tremaining: 47.8ms\n",
            "413:\tlearn: 2.1335648\ttotal: 227ms\tremaining: 47.2ms\n",
            "414:\tlearn: 2.1306388\ttotal: 228ms\tremaining: 46.7ms\n",
            "415:\tlearn: 2.1288359\ttotal: 228ms\tremaining: 46.1ms\n",
            "416:\tlearn: 2.1267160\ttotal: 229ms\tremaining: 45.6ms\n",
            "417:\tlearn: 2.1245284\ttotal: 229ms\tremaining: 45ms\n",
            "418:\tlearn: 2.1233867\ttotal: 230ms\tremaining: 44.4ms\n",
            "419:\tlearn: 2.1219039\ttotal: 230ms\tremaining: 43.9ms\n",
            "420:\tlearn: 2.1189113\ttotal: 231ms\tremaining: 43.4ms\n",
            "421:\tlearn: 2.1185342\ttotal: 232ms\tremaining: 42.8ms\n",
            "422:\tlearn: 2.1170605\ttotal: 232ms\tremaining: 42.3ms\n",
            "423:\tlearn: 2.1157265\ttotal: 233ms\tremaining: 41.7ms\n",
            "424:\tlearn: 2.1143302\ttotal: 233ms\tremaining: 41.1ms\n",
            "425:\tlearn: 2.1133500\ttotal: 234ms\tremaining: 40.6ms\n",
            "426:\tlearn: 2.1130789\ttotal: 234ms\tremaining: 40ms\n",
            "427:\tlearn: 2.1097127\ttotal: 235ms\tremaining: 39.5ms\n",
            "428:\tlearn: 2.1063029\ttotal: 235ms\tremaining: 38.9ms\n",
            "429:\tlearn: 2.1059343\ttotal: 236ms\tremaining: 38.4ms\n",
            "430:\tlearn: 2.1048995\ttotal: 236ms\tremaining: 37.8ms\n",
            "431:\tlearn: 2.1031083\ttotal: 237ms\tremaining: 37.3ms\n",
            "432:\tlearn: 2.1028543\ttotal: 237ms\tremaining: 36.7ms\n",
            "433:\tlearn: 2.1025045\ttotal: 238ms\tremaining: 36.1ms\n",
            "434:\tlearn: 2.0997725\ttotal: 238ms\tremaining: 35.6ms\n",
            "435:\tlearn: 2.0981087\ttotal: 239ms\tremaining: 35ms\n",
            "436:\tlearn: 2.0959936\ttotal: 239ms\tremaining: 34.5ms\n",
            "437:\tlearn: 2.0948958\ttotal: 240ms\tremaining: 33.9ms\n",
            "438:\tlearn: 2.0939167\ttotal: 240ms\tremaining: 33.4ms\n",
            "439:\tlearn: 2.0937056\ttotal: 241ms\tremaining: 32.8ms\n",
            "440:\tlearn: 2.0919328\ttotal: 241ms\tremaining: 32.3ms\n",
            "441:\tlearn: 2.0917506\ttotal: 242ms\tremaining: 31.7ms\n",
            "442:\tlearn: 2.0887533\ttotal: 242ms\tremaining: 31.2ms\n",
            "443:\tlearn: 2.0875322\ttotal: 243ms\tremaining: 30.6ms\n",
            "444:\tlearn: 2.0866066\ttotal: 243ms\tremaining: 30.1ms\n",
            "445:\tlearn: 2.0842316\ttotal: 244ms\tremaining: 29.5ms\n",
            "446:\tlearn: 2.0829361\ttotal: 244ms\tremaining: 29ms\n",
            "447:\tlearn: 2.0811428\ttotal: 245ms\tremaining: 28.4ms\n",
            "448:\tlearn: 2.0795494\ttotal: 245ms\tremaining: 27.9ms\n",
            "449:\tlearn: 2.0783892\ttotal: 246ms\tremaining: 27.3ms\n",
            "450:\tlearn: 2.0762989\ttotal: 246ms\tremaining: 26.8ms\n",
            "451:\tlearn: 2.0728016\ttotal: 247ms\tremaining: 26.2ms\n",
            "452:\tlearn: 2.0719245\ttotal: 247ms\tremaining: 25.6ms\n",
            "453:\tlearn: 2.0706847\ttotal: 248ms\tremaining: 25.1ms\n",
            "454:\tlearn: 2.0676896\ttotal: 248ms\tremaining: 24.6ms\n",
            "455:\tlearn: 2.0663790\ttotal: 249ms\tremaining: 24ms\n",
            "456:\tlearn: 2.0658199\ttotal: 249ms\tremaining: 23.5ms\n",
            "457:\tlearn: 2.0648292\ttotal: 250ms\tremaining: 22.9ms\n",
            "458:\tlearn: 2.0612143\ttotal: 250ms\tremaining: 22.4ms\n",
            "459:\tlearn: 2.0591516\ttotal: 251ms\tremaining: 21.8ms\n",
            "460:\tlearn: 2.0581895\ttotal: 251ms\tremaining: 21.3ms\n",
            "461:\tlearn: 2.0557983\ttotal: 252ms\tremaining: 20.7ms\n",
            "462:\tlearn: 2.0550334\ttotal: 252ms\tremaining: 20.2ms\n",
            "463:\tlearn: 2.0540248\ttotal: 253ms\tremaining: 19.6ms\n",
            "464:\tlearn: 2.0522013\ttotal: 253ms\tremaining: 19.1ms\n",
            "465:\tlearn: 2.0500991\ttotal: 254ms\tremaining: 18.5ms\n",
            "466:\tlearn: 2.0490114\ttotal: 254ms\tremaining: 18ms\n",
            "467:\tlearn: 2.0482645\ttotal: 255ms\tremaining: 17.4ms\n",
            "468:\tlearn: 2.0473360\ttotal: 255ms\tremaining: 16.9ms\n",
            "469:\tlearn: 2.0429536\ttotal: 256ms\tremaining: 16.3ms\n",
            "470:\tlearn: 2.0419949\ttotal: 256ms\tremaining: 15.8ms\n",
            "471:\tlearn: 2.0404303\ttotal: 257ms\tremaining: 15.2ms\n",
            "472:\tlearn: 2.0386384\ttotal: 257ms\tremaining: 14.7ms\n",
            "473:\tlearn: 2.0377902\ttotal: 258ms\tremaining: 14.1ms\n",
            "474:\tlearn: 2.0359067\ttotal: 258ms\tremaining: 13.6ms\n",
            "475:\tlearn: 2.0341859\ttotal: 259ms\tremaining: 13.1ms\n",
            "476:\tlearn: 2.0320160\ttotal: 259ms\tremaining: 12.5ms\n",
            "477:\tlearn: 2.0299789\ttotal: 260ms\tremaining: 12ms\n",
            "478:\tlearn: 2.0270471\ttotal: 260ms\tremaining: 11.4ms\n",
            "479:\tlearn: 2.0260234\ttotal: 261ms\tremaining: 10.9ms\n",
            "480:\tlearn: 2.0258035\ttotal: 261ms\tremaining: 10.3ms\n",
            "481:\tlearn: 2.0246039\ttotal: 262ms\tremaining: 9.78ms\n",
            "482:\tlearn: 2.0216410\ttotal: 263ms\tremaining: 9.24ms\n",
            "483:\tlearn: 2.0205334\ttotal: 263ms\tremaining: 8.7ms\n",
            "484:\tlearn: 2.0203212\ttotal: 264ms\tremaining: 8.15ms\n",
            "485:\tlearn: 2.0186901\ttotal: 264ms\tremaining: 7.61ms\n",
            "486:\tlearn: 2.0175293\ttotal: 265ms\tremaining: 7.07ms\n",
            "487:\tlearn: 2.0155735\ttotal: 265ms\tremaining: 6.52ms\n",
            "488:\tlearn: 2.0144889\ttotal: 266ms\tremaining: 5.98ms\n",
            "489:\tlearn: 2.0130615\ttotal: 266ms\tremaining: 5.43ms\n",
            "490:\tlearn: 2.0114371\ttotal: 267ms\tremaining: 4.89ms\n",
            "491:\tlearn: 2.0099749\ttotal: 267ms\tremaining: 4.35ms\n",
            "492:\tlearn: 2.0071964\ttotal: 268ms\tremaining: 3.8ms\n",
            "493:\tlearn: 2.0034898\ttotal: 268ms\tremaining: 3.26ms\n",
            "494:\tlearn: 2.0017882\ttotal: 269ms\tremaining: 2.71ms\n",
            "495:\tlearn: 2.0007951\ttotal: 269ms\tremaining: 2.17ms\n",
            "496:\tlearn: 1.9992161\ttotal: 270ms\tremaining: 1.63ms\n",
            "497:\tlearn: 1.9976485\ttotal: 270ms\tremaining: 1.08ms\n",
            "498:\tlearn: 1.9957306\ttotal: 271ms\tremaining: 542us\n",
            "499:\tlearn: 1.9948673\ttotal: 271ms\tremaining: 0us\n"
          ],
          "name": "stdout"
        },
        {
          "output_type": "execute_result",
          "data": {
            "text/plain": [
              "<catboost.core.CatBoostRegressor at 0x7ff989a47400>"
            ]
          },
          "metadata": {
            "tags": []
          },
          "execution_count": 55
        }
      ]
    },
    {
      "cell_type": "code",
      "metadata": {
        "id": "jMGRWqUMq1eM"
      },
      "source": [
        "y_pred2=model.predict(X_test)"
      ],
      "execution_count": 56,
      "outputs": []
    },
    {
      "cell_type": "code",
      "metadata": {
        "colab": {
          "base_uri": "https://localhost:8080/"
        },
        "id": "x-CljRlQq5yk",
        "outputId": "fe91cf70-26a7-48cf-f18d-d4a9151c32b0"
      },
      "source": [
        "from sklearn.metrics import mean_squared_error\r\n",
        "\r\n",
        "rms = mean_squared_error(y_test, y_pred2, squared=False)\r\n",
        "rms"
      ],
      "execution_count": 57,
      "outputs": [
        {
          "output_type": "execute_result",
          "data": {
            "text/plain": [
              "2.632600248779696"
            ]
          },
          "metadata": {
            "tags": []
          },
          "execution_count": 57
        }
      ]
    },
    {
      "cell_type": "code",
      "metadata": {
        "colab": {
          "base_uri": "https://localhost:8080/"
        },
        "id": "uVp4STHMq-Jc",
        "outputId": "e9c90bf2-f519-483d-e5c5-0ea7b54b6c18"
      },
      "source": [
        "print(y_pred2[0:5])\r\n",
        "print(y_test[0:5])"
      ],
      "execution_count": 58,
      "outputs": [
        {
          "output_type": "stream",
          "text": [
            "[153.12270085 222.2653907  153.43546428 134.97329181 315.27092931]\n",
            "1083    152.95\n",
            "18      221.00\n",
            "1099    156.50\n",
            "818     132.95\n",
            "184     314.65\n",
            "Name: Open, dtype: float64\n"
          ],
          "name": "stdout"
        }
      ]
    },
    {
      "cell_type": "code",
      "metadata": {
        "id": "6jl81E9urlmS"
      },
      "source": [
        ""
      ],
      "execution_count": null,
      "outputs": []
    }
  ]
}