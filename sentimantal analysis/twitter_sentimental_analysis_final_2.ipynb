{
  "nbformat": 4,
  "nbformat_minor": 0,
  "metadata": {
    "colab": {
      "name": "twitter sentimental analysis.ipynb",
      "provenance": [],
      "collapsed_sections": [],
      "toc_visible": true,
      "authorship_tag": "ABX9TyPXxiuaF8rWDMTwb2lSAHyC",
      "include_colab_link": true
    },
    "kernelspec": {
      "name": "python3",
      "display_name": "Python 3"
    }
  },
  "cells": [
    {
      "cell_type": "markdown",
      "metadata": {
        "id": "view-in-github",
        "colab_type": "text"
      },
      "source": [
        "<a href=\"https://colab.research.google.com/github/saurabhsingh1411/10_simple_project_data_science/blob/main/sentimantal%20analysis/twitter_sentimental_analysis_final_2.ipynb\" target=\"_parent\"><img src=\"https://colab.research.google.com/assets/colab-badge.svg\" alt=\"Open In Colab\"/></a>"
      ]
    },
    {
      "cell_type": "markdown",
      "metadata": {
        "id": "TYbqsm5Oe5VP"
      },
      "source": [
        "Importing lib and dataset"
      ]
    },
    {
      "cell_type": "code",
      "metadata": {
        "id": "J7_q4l5CH5f6"
      },
      "source": [
        "import pandas as pd\r\n",
        "import numpy as np\r\n",
        "import matplotlib.pyplot as plt\r\n",
        "import re\r\n",
        "from keras.preprocessing.text import Tokenizer\r\n",
        "from keras.preprocessing.sequence import pad_sequences\r\n",
        "from sklearn.model_selection import train_test_split\r\n"
      ],
      "execution_count": 1,
      "outputs": []
    },
    {
      "cell_type": "code",
      "metadata": {
        "id": "5a8iSy8dcZKs"
      },
      "source": [
        "data=pd.read_csv('train.csv')\r\n",
        "test=pd.read_csv('test.csv')\r\n"
      ],
      "execution_count": 2,
      "outputs": []
    },
    {
      "cell_type": "code",
      "metadata": {
        "colab": {
          "base_uri": "https://localhost:8080/",
          "height": 204
        },
        "id": "c63J292agWUR",
        "outputId": "c08e6b2e-827a-47c2-9d48-2c70ef2d4b2c"
      },
      "source": [
        "data.head()"
      ],
      "execution_count": 3,
      "outputs": [
        {
          "output_type": "execute_result",
          "data": {
            "text/html": [
              "<div>\n",
              "<style scoped>\n",
              "    .dataframe tbody tr th:only-of-type {\n",
              "        vertical-align: middle;\n",
              "    }\n",
              "\n",
              "    .dataframe tbody tr th {\n",
              "        vertical-align: top;\n",
              "    }\n",
              "\n",
              "    .dataframe thead th {\n",
              "        text-align: right;\n",
              "    }\n",
              "</style>\n",
              "<table border=\"1\" class=\"dataframe\">\n",
              "  <thead>\n",
              "    <tr style=\"text-align: right;\">\n",
              "      <th></th>\n",
              "      <th>id</th>\n",
              "      <th>label</th>\n",
              "      <th>tweet</th>\n",
              "    </tr>\n",
              "  </thead>\n",
              "  <tbody>\n",
              "    <tr>\n",
              "      <th>0</th>\n",
              "      <td>1</td>\n",
              "      <td>0</td>\n",
              "      <td>#fingerprint #Pregnancy Test https://goo.gl/h1...</td>\n",
              "    </tr>\n",
              "    <tr>\n",
              "      <th>1</th>\n",
              "      <td>2</td>\n",
              "      <td>0</td>\n",
              "      <td>Finally a transparant silicon case ^^ Thanks t...</td>\n",
              "    </tr>\n",
              "    <tr>\n",
              "      <th>2</th>\n",
              "      <td>3</td>\n",
              "      <td>0</td>\n",
              "      <td>We love this! Would you go? #talk #makememorie...</td>\n",
              "    </tr>\n",
              "    <tr>\n",
              "      <th>3</th>\n",
              "      <td>4</td>\n",
              "      <td>0</td>\n",
              "      <td>I'm wired I know I'm George I was made that wa...</td>\n",
              "    </tr>\n",
              "    <tr>\n",
              "      <th>4</th>\n",
              "      <td>5</td>\n",
              "      <td>1</td>\n",
              "      <td>What amazing service! Apple won't even talk to...</td>\n",
              "    </tr>\n",
              "  </tbody>\n",
              "</table>\n",
              "</div>"
            ],
            "text/plain": [
              "   id  label                                              tweet\n",
              "0   1      0  #fingerprint #Pregnancy Test https://goo.gl/h1...\n",
              "1   2      0  Finally a transparant silicon case ^^ Thanks t...\n",
              "2   3      0  We love this! Would you go? #talk #makememorie...\n",
              "3   4      0  I'm wired I know I'm George I was made that wa...\n",
              "4   5      1  What amazing service! Apple won't even talk to..."
            ]
          },
          "metadata": {
            "tags": []
          },
          "execution_count": 3
        }
      ]
    },
    {
      "cell_type": "code",
      "metadata": {
        "colab": {
          "base_uri": "https://localhost:8080/",
          "height": 204
        },
        "id": "bg5D25gcjHFK",
        "outputId": "e0fcd0cb-70ce-4692-c84d-bacbd60d7871"
      },
      "source": [
        "data = data[['tweet','label']]\r\n",
        "data.head()"
      ],
      "execution_count": 4,
      "outputs": [
        {
          "output_type": "execute_result",
          "data": {
            "text/html": [
              "<div>\n",
              "<style scoped>\n",
              "    .dataframe tbody tr th:only-of-type {\n",
              "        vertical-align: middle;\n",
              "    }\n",
              "\n",
              "    .dataframe tbody tr th {\n",
              "        vertical-align: top;\n",
              "    }\n",
              "\n",
              "    .dataframe thead th {\n",
              "        text-align: right;\n",
              "    }\n",
              "</style>\n",
              "<table border=\"1\" class=\"dataframe\">\n",
              "  <thead>\n",
              "    <tr style=\"text-align: right;\">\n",
              "      <th></th>\n",
              "      <th>tweet</th>\n",
              "      <th>label</th>\n",
              "    </tr>\n",
              "  </thead>\n",
              "  <tbody>\n",
              "    <tr>\n",
              "      <th>0</th>\n",
              "      <td>#fingerprint #Pregnancy Test https://goo.gl/h1...</td>\n",
              "      <td>0</td>\n",
              "    </tr>\n",
              "    <tr>\n",
              "      <th>1</th>\n",
              "      <td>Finally a transparant silicon case ^^ Thanks t...</td>\n",
              "      <td>0</td>\n",
              "    </tr>\n",
              "    <tr>\n",
              "      <th>2</th>\n",
              "      <td>We love this! Would you go? #talk #makememorie...</td>\n",
              "      <td>0</td>\n",
              "    </tr>\n",
              "    <tr>\n",
              "      <th>3</th>\n",
              "      <td>I'm wired I know I'm George I was made that wa...</td>\n",
              "      <td>0</td>\n",
              "    </tr>\n",
              "    <tr>\n",
              "      <th>4</th>\n",
              "      <td>What amazing service! Apple won't even talk to...</td>\n",
              "      <td>1</td>\n",
              "    </tr>\n",
              "  </tbody>\n",
              "</table>\n",
              "</div>"
            ],
            "text/plain": [
              "                                               tweet  label\n",
              "0  #fingerprint #Pregnancy Test https://goo.gl/h1...      0\n",
              "1  Finally a transparant silicon case ^^ Thanks t...      0\n",
              "2  We love this! Would you go? #talk #makememorie...      0\n",
              "3  I'm wired I know I'm George I was made that wa...      0\n",
              "4  What amazing service! Apple won't even talk to...      1"
            ]
          },
          "metadata": {
            "tags": []
          },
          "execution_count": 4
        }
      ]
    },
    {
      "cell_type": "code",
      "metadata": {
        "colab": {
          "base_uri": "https://localhost:8080/"
        },
        "id": "il0Djg4oyomK",
        "outputId": "9f31780d-867f-457d-a0dd-eeeb8bb8434c"
      },
      "source": [
        "data = data[data.label != \"Neutral\"]\r\n",
        "data['tweet'] = data['tweet'].apply(lambda x: x.lower())\r\n",
        "data['tweet'] = data['tweet'].apply((lambda x: re.sub('[^a-zA-z0-9\\s]','',x)))\r\n",
        "\r\n",
        "print(data[ data['label'] == 1].size)\r\n",
        "print(data[ data['label'] == 0].size)\r\n",
        "\r\n",
        "for idx,row in data.iterrows():\r\n",
        "    row[0] = row[0].replace('rt',' ')\r\n",
        "    \r\n",
        "max_fatures = 2000\r\n",
        "tokenizer = Tokenizer(num_words=max_fatures, split=' ')\r\n",
        "tokenizer.fit_on_texts(data['tweet'].values)\r\n",
        "X = tokenizer.texts_to_sequences(data['tweet'].values)\r\n",
        "X = pad_sequences(X)"
      ],
      "execution_count": 5,
      "outputs": [
        {
          "output_type": "stream",
          "text": [
            "4052\n",
            "11788\n"
          ],
          "name": "stdout"
        }
      ]
    },
    {
      "cell_type": "code",
      "metadata": {
        "id": "LWHCLa-qADaS"
      },
      "source": [
        "from keras.models import Sequential\r\n",
        "from keras.layers import Embedding,LSTM,SpatialDropout1D,Dense"
      ],
      "execution_count": 7,
      "outputs": []
    },
    {
      "cell_type": "code",
      "metadata": {
        "colab": {
          "base_uri": "https://localhost:8080/"
        },
        "id": "LtmrGTaTyopO",
        "outputId": "549f95b8-daf1-4c03-93e3-f30e0233c965"
      },
      "source": [
        "embed_dim = 128\r\n",
        "lstm_out = 196\r\n",
        "\r\n",
        "model = Sequential()\r\n",
        "model.add(Embedding(max_fatures, embed_dim,input_length = X.shape[1]))\r\n",
        "model.add(SpatialDropout1D(0.4))\r\n",
        "model.add(LSTM(lstm_out, dropout=0.2, recurrent_dropout=0.2))\r\n",
        "model.add(Dense(2,activation='softmax'))\r\n",
        "model.compile(loss = 'categorical_crossentropy', optimizer='adam',metrics = ['accuracy'])\r\n",
        "print(model.summary())"
      ],
      "execution_count": 9,
      "outputs": [
        {
          "output_type": "stream",
          "text": [
            "Model: \"sequential_1\"\n",
            "_________________________________________________________________\n",
            "Layer (type)                 Output Shape              Param #   \n",
            "=================================================================\n",
            "embedding_1 (Embedding)      (None, 48, 128)           256000    \n",
            "_________________________________________________________________\n",
            "spatial_dropout1d_1 (Spatial (None, 48, 128)           0         \n",
            "_________________________________________________________________\n",
            "lstm_1 (LSTM)                (None, 196)               254800    \n",
            "_________________________________________________________________\n",
            "dense_1 (Dense)              (None, 2)                 394       \n",
            "=================================================================\n",
            "Total params: 511,194\n",
            "Trainable params: 511,194\n",
            "Non-trainable params: 0\n",
            "_________________________________________________________________\n",
            "None\n"
          ],
          "name": "stdout"
        }
      ]
    },
    {
      "cell_type": "code",
      "metadata": {
        "colab": {
          "base_uri": "https://localhost:8080/"
        },
        "id": "FJAcHMznzHck",
        "outputId": "fb277a71-e7bd-4f4e-aaba-c675dfb44614"
      },
      "source": [
        "Y = pd.get_dummies(data['label']).values\r\n",
        "X_train, X_test, Y_train, Y_test = train_test_split(X,Y, test_size = 0.33, random_state = 42)\r\n",
        "print(X_train.shape,Y_train.shape)\r\n",
        "print(X_test.shape,Y_test.shape)"
      ],
      "execution_count": 10,
      "outputs": [
        {
          "output_type": "stream",
          "text": [
            "(5306, 48) (5306, 2)\n",
            "(2614, 48) (2614, 2)\n"
          ],
          "name": "stdout"
        }
      ]
    },
    {
      "cell_type": "code",
      "metadata": {
        "colab": {
          "base_uri": "https://localhost:8080/"
        },
        "id": "R3qljaiEzHgB",
        "outputId": "7999d373-1f75-487e-d9ea-7dd62ad2dcb5"
      },
      "source": [
        "batch_size = 32\r\n",
        "model.fit(X_train, Y_train, epochs = 50, batch_size=batch_size, verbose = 2,validation_data=(X_test ,Y_test))"
      ],
      "execution_count": 12,
      "outputs": [
        {
          "output_type": "stream",
          "text": [
            "Epoch 1/50\n",
            "166/166 - 40s - loss: 0.2073 - accuracy: 0.9133 - val_loss: 0.2864 - val_accuracy: 0.8711\n",
            "Epoch 2/50\n",
            "166/166 - 40s - loss: 0.1753 - accuracy: 0.9289 - val_loss: 0.2762 - val_accuracy: 0.8818\n",
            "Epoch 3/50\n",
            "166/166 - 40s - loss: 0.1462 - accuracy: 0.9429 - val_loss: 0.2834 - val_accuracy: 0.8795\n",
            "Epoch 4/50\n",
            "166/166 - 40s - loss: 0.1235 - accuracy: 0.9506 - val_loss: 0.3575 - val_accuracy: 0.8730\n",
            "Epoch 5/50\n",
            "166/166 - 40s - loss: 0.1004 - accuracy: 0.9623 - val_loss: 0.4378 - val_accuracy: 0.8646\n",
            "Epoch 6/50\n",
            "166/166 - 40s - loss: 0.0890 - accuracy: 0.9681 - val_loss: 0.4199 - val_accuracy: 0.8718\n",
            "Epoch 7/50\n",
            "166/166 - 40s - loss: 0.0773 - accuracy: 0.9717 - val_loss: 0.4533 - val_accuracy: 0.8577\n",
            "Epoch 8/50\n",
            "166/166 - 40s - loss: 0.0610 - accuracy: 0.9755 - val_loss: 0.4896 - val_accuracy: 0.8542\n",
            "Epoch 9/50\n",
            "166/166 - 40s - loss: 0.0567 - accuracy: 0.9800 - val_loss: 0.6159 - val_accuracy: 0.8546\n",
            "Epoch 10/50\n",
            "166/166 - 40s - loss: 0.0439 - accuracy: 0.9838 - val_loss: 0.6214 - val_accuracy: 0.8523\n",
            "Epoch 11/50\n",
            "166/166 - 40s - loss: 0.0402 - accuracy: 0.9847 - val_loss: 0.6860 - val_accuracy: 0.8523\n",
            "Epoch 12/50\n",
            "166/166 - 40s - loss: 0.0286 - accuracy: 0.9894 - val_loss: 0.7731 - val_accuracy: 0.8531\n",
            "Epoch 13/50\n",
            "166/166 - 40s - loss: 0.0330 - accuracy: 0.9889 - val_loss: 0.7919 - val_accuracy: 0.8508\n",
            "Epoch 14/50\n",
            "166/166 - 40s - loss: 0.0265 - accuracy: 0.9896 - val_loss: 0.8412 - val_accuracy: 0.8485\n",
            "Epoch 15/50\n",
            "166/166 - 40s - loss: 0.0231 - accuracy: 0.9913 - val_loss: 0.8606 - val_accuracy: 0.8470\n",
            "Epoch 16/50\n",
            "166/166 - 40s - loss: 0.0211 - accuracy: 0.9938 - val_loss: 0.8596 - val_accuracy: 0.8474\n",
            "Epoch 17/50\n",
            "166/166 - 40s - loss: 0.0231 - accuracy: 0.9932 - val_loss: 0.8629 - val_accuracy: 0.8558\n",
            "Epoch 18/50\n",
            "166/166 - 40s - loss: 0.0196 - accuracy: 0.9936 - val_loss: 0.8891 - val_accuracy: 0.8474\n",
            "Epoch 19/50\n",
            "166/166 - 40s - loss: 0.0165 - accuracy: 0.9947 - val_loss: 0.9129 - val_accuracy: 0.8470\n",
            "Epoch 20/50\n",
            "166/166 - 40s - loss: 0.0129 - accuracy: 0.9962 - val_loss: 0.9896 - val_accuracy: 0.8504\n",
            "Epoch 21/50\n",
            "166/166 - 40s - loss: 0.0180 - accuracy: 0.9938 - val_loss: 0.8594 - val_accuracy: 0.8439\n",
            "Epoch 22/50\n",
            "166/166 - 40s - loss: 0.0218 - accuracy: 0.9915 - val_loss: 0.7693 - val_accuracy: 0.8466\n",
            "Epoch 23/50\n",
            "166/166 - 40s - loss: 0.0160 - accuracy: 0.9945 - val_loss: 0.9262 - val_accuracy: 0.8542\n",
            "Epoch 24/50\n",
            "166/166 - 40s - loss: 0.0141 - accuracy: 0.9947 - val_loss: 0.9238 - val_accuracy: 0.8500\n",
            "Epoch 25/50\n",
            "166/166 - 40s - loss: 0.0148 - accuracy: 0.9959 - val_loss: 0.9450 - val_accuracy: 0.8443\n",
            "Epoch 26/50\n",
            "166/166 - 40s - loss: 0.0127 - accuracy: 0.9960 - val_loss: 0.9047 - val_accuracy: 0.8542\n",
            "Epoch 27/50\n",
            "166/166 - 40s - loss: 0.0141 - accuracy: 0.9962 - val_loss: 0.9328 - val_accuracy: 0.8542\n",
            "Epoch 28/50\n",
            "166/166 - 40s - loss: 0.0093 - accuracy: 0.9975 - val_loss: 1.0457 - val_accuracy: 0.8508\n",
            "Epoch 29/50\n",
            "166/166 - 40s - loss: 0.0156 - accuracy: 0.9940 - val_loss: 0.9924 - val_accuracy: 0.8454\n",
            "Epoch 30/50\n",
            "166/166 - 40s - loss: 0.0112 - accuracy: 0.9957 - val_loss: 0.9447 - val_accuracy: 0.8508\n",
            "Epoch 31/50\n",
            "166/166 - 40s - loss: 0.0070 - accuracy: 0.9983 - val_loss: 1.2048 - val_accuracy: 0.8500\n",
            "Epoch 32/50\n",
            "166/166 - 40s - loss: 0.0063 - accuracy: 0.9977 - val_loss: 1.0758 - val_accuracy: 0.8470\n",
            "Epoch 33/50\n",
            "166/166 - 40s - loss: 0.0073 - accuracy: 0.9979 - val_loss: 1.0845 - val_accuracy: 0.8451\n",
            "Epoch 34/50\n",
            "166/166 - 40s - loss: 0.0102 - accuracy: 0.9962 - val_loss: 1.0498 - val_accuracy: 0.8435\n",
            "Epoch 35/50\n",
            "166/166 - 40s - loss: 0.0094 - accuracy: 0.9970 - val_loss: 0.9797 - val_accuracy: 0.8497\n",
            "Epoch 36/50\n",
            "166/166 - 40s - loss: 0.0090 - accuracy: 0.9968 - val_loss: 0.9986 - val_accuracy: 0.8389\n",
            "Epoch 37/50\n",
            "166/166 - 40s - loss: 0.0127 - accuracy: 0.9947 - val_loss: 1.1632 - val_accuracy: 0.8485\n",
            "Epoch 38/50\n",
            "166/166 - 40s - loss: 0.0100 - accuracy: 0.9964 - val_loss: 1.0424 - val_accuracy: 0.8451\n",
            "Epoch 39/50\n",
            "166/166 - 40s - loss: 0.0088 - accuracy: 0.9970 - val_loss: 1.0337 - val_accuracy: 0.8481\n",
            "Epoch 40/50\n",
            "166/166 - 40s - loss: 0.0040 - accuracy: 0.9983 - val_loss: 1.1882 - val_accuracy: 0.8474\n",
            "Epoch 41/50\n",
            "166/166 - 40s - loss: 0.0090 - accuracy: 0.9966 - val_loss: 1.2013 - val_accuracy: 0.8443\n",
            "Epoch 42/50\n",
            "166/166 - 40s - loss: 0.0077 - accuracy: 0.9981 - val_loss: 1.1705 - val_accuracy: 0.8424\n",
            "Epoch 43/50\n",
            "166/166 - 40s - loss: 0.0076 - accuracy: 0.9972 - val_loss: 1.0994 - val_accuracy: 0.8531\n",
            "Epoch 44/50\n",
            "166/166 - 40s - loss: 0.0055 - accuracy: 0.9975 - val_loss: 1.2077 - val_accuracy: 0.8481\n",
            "Epoch 45/50\n",
            "166/166 - 40s - loss: 0.0043 - accuracy: 0.9981 - val_loss: 1.0951 - val_accuracy: 0.8466\n",
            "Epoch 46/50\n",
            "166/166 - 39s - loss: 0.0055 - accuracy: 0.9981 - val_loss: 1.1841 - val_accuracy: 0.8435\n",
            "Epoch 47/50\n",
            "166/166 - 40s - loss: 0.0044 - accuracy: 0.9985 - val_loss: 1.2213 - val_accuracy: 0.8485\n",
            "Epoch 48/50\n",
            "166/166 - 40s - loss: 0.0095 - accuracy: 0.9970 - val_loss: 1.1159 - val_accuracy: 0.8477\n",
            "Epoch 49/50\n",
            "166/166 - 40s - loss: 0.0057 - accuracy: 0.9972 - val_loss: 1.1576 - val_accuracy: 0.8504\n",
            "Epoch 50/50\n",
            "166/166 - 40s - loss: 0.0066 - accuracy: 0.9974 - val_loss: 1.2105 - val_accuracy: 0.8454\n"
          ],
          "name": "stdout"
        },
        {
          "output_type": "execute_result",
          "data": {
            "text/plain": [
              "<tensorflow.python.keras.callbacks.History at 0x7f71ba3d21d0>"
            ]
          },
          "metadata": {
            "tags": []
          },
          "execution_count": 12
        }
      ]
    },
    {
      "cell_type": "code",
      "metadata": {
        "id": "Ojpeq87CzHiz"
      },
      "source": [
        "twt=test['tweet']"
      ],
      "execution_count": 13,
      "outputs": []
    },
    {
      "cell_type": "code",
      "metadata": {
        "id": "aTVYQ0dVCkeF"
      },
      "source": [
        "max_fatures = 2000\r\n",
        "tokenizer = Tokenizer(num_words=max_fatures, split=' ')\r\n",
        "tokenizer.fit_on_texts(test['tweet'].values)\r\n",
        "X_test2 = tokenizer.texts_to_sequences(test['tweet'].values)\r\n",
        "X_test2 = pad_sequences(X)"
      ],
      "execution_count": 14,
      "outputs": []
    },
    {
      "cell_type": "code",
      "metadata": {
        "id": "Phqh8hPuzHll"
      },
      "source": [
        "#twt = tokenizer.texts_to_sequences(twt)"
      ],
      "execution_count": null,
      "outputs": []
    },
    {
      "cell_type": "code",
      "metadata": {
        "id": "r4PJEHR1zHoE"
      },
      "source": [
        "#twt = pad_sequences(twt, maxlen=120, dtype='int32', value=0)"
      ],
      "execution_count": null,
      "outputs": []
    },
    {
      "cell_type": "code",
      "metadata": {
        "colab": {
          "base_uri": "https://localhost:8080/"
        },
        "id": "hdy9OWtYyozR",
        "outputId": "65504b79-5187-46ab-fd64-8b0991e4147f"
      },
      "source": [
        "X_test2"
      ],
      "execution_count": 15,
      "outputs": [
        {
          "output_type": "execute_result",
          "data": {
            "text/plain": [
              "array([[   0,    0,    0, ...,  136,  129,    1],\n",
              "       [   0,    0,    0, ...,   17,  304,  279],\n",
              "       [   0,    0,    0, ...,  146,  336, 1238],\n",
              "       ...,\n",
              "       [   0,    0,    0, ...,  168,   39,    4],\n",
              "       [   0,    0,    0, ...,    7,  343,  465],\n",
              "       [   0,    0,    0, ...,  105, 1913,   52]], dtype=int32)"
            ]
          },
          "metadata": {
            "tags": []
          },
          "execution_count": 15
        }
      ]
    },
    {
      "cell_type": "code",
      "metadata": {
        "id": "TATNH8NPyo2S"
      },
      "source": [
        "#prediction=np.argmax(model.predict(X_test2))"
      ],
      "execution_count": null,
      "outputs": []
    },
    {
      "cell_type": "code",
      "metadata": {
        "id": "vG9X21oS0rxc"
      },
      "source": [
        "prediction_final=np.argmax(model.predict(X_test2), axis=-1)"
      ],
      "execution_count": 16,
      "outputs": []
    },
    {
      "cell_type": "code",
      "metadata": {
        "id": "y9GGP_350r0s",
        "colab": {
          "base_uri": "https://localhost:8080/"
        },
        "outputId": "f149a3a4-4bf6-4c1f-8fc5-bd2aad91330d"
      },
      "source": [
        "prediction_final[1:10]"
      ],
      "execution_count": 18,
      "outputs": [
        {
          "output_type": "execute_result",
          "data": {
            "text/plain": [
              "array([0, 0, 0, 1, 1, 0, 0, 0, 0])"
            ]
          },
          "metadata": {
            "tags": []
          },
          "execution_count": 18
        }
      ]
    }
  ]
}